{
 "cells": [
  {
   "cell_type": "code",
   "execution_count": 1,
   "metadata": {},
   "outputs": [],
   "source": [
    "import collections\n",
    "import math\n",
    "from pathlib import Path\n",
    "import itertools\n",
    "import subprocess\n",
    "\n",
    "import beartype\n",
    "from beartype.typing import *\n",
    "import matplotlib.pyplot as plt\n",
    "import more_itertools\n",
    "import numpy as np\n",
    "import torch\n",
    "import ujson as json\n",
    "import jsonlines as jsonl\n",
    "import rich\n",
    "from tqdm import tqdm\n",
    "\n",
    "import datagen\n",
    "\n",
    "\n",
    "def cmd(command: list[str]) -> list[str]:\n",
    "    return subprocess.check_output(command).decode(\"utf-8\").strip().split(\"\\n\")\n",
    "\n",
    "def only_one(it: Iterable):\n",
    "    iterated = iter(it)\n",
    "    good = next(iterated)\n",
    "    for bad in iterated:\n",
    "        raise ValueError(\"Expected only one item, got more than one.\")\n",
    "    return good\n",
    "\n",
    "def check_len(it: Sequence, expected_len: int) -> Sequence:\n",
    "    if not len(it) == expected_len:\n",
    "        raise ValueError(f\"Expected {expected_len} items, got {len(it)}.\")\n",
    "    return it\n",
    "\n",
    "def count_lines(path: Path) -> int:\n",
    "    return int(check_len(only_one(cmd([\"wc\", \"-l\", str(path)])).split(), 2)[0])\n",
    "\n",
    "\n"
   ]
  },
  {
   "cell_type": "code",
   "execution_count": 2,
   "metadata": {},
   "outputs": [
    {
     "name": "stdout",
     "output_type": "stream",
     "text": [
      "[PosixPath('log_results/basic/shared_config.json'), PosixPath('log_results/basic/basic_0'), PosixPath('log_results/basic/basic_1'), PosixPath('log_results/basic/basic_2'), PosixPath('log_results/basic/basic_3'), PosixPath('log_results/basic/basic_4'), PosixPath('log_results/basic/basic_5'), PosixPath('log_results/basic/basic_6'), PosixPath('log_results/basic/basic_7'), PosixPath('log_results/basic/basic_8'), PosixPath('log_results/basic/basic_9'), PosixPath('log_results/basic/basic_10'), PosixPath('log_results/basic/basic_11'), PosixPath('log_results/basic/basic_12'), PosixPath('log_results/basic/basic_13'), PosixPath('log_results/basic/basic_14'), PosixPath('log_results/basic/basic_15'), PosixPath('log_results/basic/basic_16'), PosixPath('log_results/basic/basic_17'), PosixPath('log_results/basic/basic_18'), PosixPath('log_results/basic/basic_19'), PosixPath('log_results/basic/basic_20'), PosixPath('log_results/basic/basic_21'), PosixPath('log_results/basic/basic_22'), PosixPath('log_results/basic/basic_23'), PosixPath('log_results/basic/basic_24'), PosixPath('log_results/basic/basic_25'), PosixPath('log_results/basic/basic_26'), PosixPath('log_results/basic/basic_27'), PosixPath('log_results/basic/basic_28'), PosixPath('log_results/basic/basic_29')]\n",
      "Counter({1: 9, 17: 4, 23: 4, 18: 2, 5: 2, 2: 2, 6: 1, 19: 1, 3: 1})\n",
      "Counter({17: 4, 23: 4, 18: 2, 19: 1})\n",
      "11\n",
      "min_length = 17\n"
     ]
    }
   ],
   "source": [
    "TARGET_DIR = Path(\"log_results/basic\")\n",
    "MIN_LENGTH = 10\n",
    "\n",
    "print(list(TARGET_DIR.iterdir()))\n",
    "active = []\n",
    "for file in TARGET_DIR.iterdir():\n",
    "    target = file / \"predictions.jsonl\"\n",
    "    if target.exists():\n",
    "        active.append(target)\n",
    "lengths_active = [count_lines(file) for file in active]\n",
    "print(collections.Counter(lengths_active))\n",
    "selected = [file for file, length in more_itertools.zip_equal(active, lengths_active) if length >= MIN_LENGTH]\n",
    "new_lengths = [count_lines(file) for file in selected]\n",
    "print(collections.Counter(new_lengths))\n",
    "print(len(selected))\n",
    "min_length = min(new_lengths)\n",
    "print(f\"{min_length = }\")"
   ]
  },
  {
   "cell_type": "code",
   "execution_count": null,
   "metadata": {},
   "outputs": [],
   "source": [
    "readers = [jsonl.open(file, \"r\") for file in selected]\n",
    "\n",
    "for i, reader in enumerate(readers):\n",
    "    epochs_seen = set()\n",
    "    l0 = None\n",
    "    l1 = None\n",
    "    for line in reader:\n",
    "        if line[\"epoch\"] in epochs_seen:\n",
    "            print(f\"file {i} already seen epoch {line['epoch']}\")\n",
    "        epochs_seen.add(line[\"epoch\"])\n",
    "        if l0 is None:\n",
    "            l0 = line\n",
    "            print(l0)\n",
    "        elif l1 is None:\n",
    "            l1 = line\n",
    "            print(l1)\n",
    "            \n",
    "    print(l0 == l1)\n"
   ]
  },
  {
   "cell_type": "code",
   "execution_count": 7,
   "metadata": {},
   "outputs": [
    {
     "name": "stderr",
     "output_type": "stream",
     "text": [
      "  0%|          | 0/17 [00:00<?, ?it/s]"
     ]
    },
    {
     "name": "stdout",
     "output_type": "stream",
     "text": [
      "real epoch: 0\n"
     ]
    },
    {
     "name": "stderr",
     "output_type": "stream",
     "text": [
      "  6%|▌         | 1/17 [00:00<00:06,  2.30it/s]"
     ]
    },
    {
     "name": "stdout",
     "output_type": "stream",
     "text": [
      "real epoch: 1\n"
     ]
    },
    {
     "name": "stderr",
     "output_type": "stream",
     "text": [
      " 12%|█▏        | 2/17 [00:06<00:55,  3.70s/it]"
     ]
    },
    {
     "name": "stdout",
     "output_type": "stream",
     "text": [
      "real epoch: 2\n"
     ]
    },
    {
     "name": "stderr",
     "output_type": "stream",
     "text": [
      " 18%|█▊        | 3/17 [00:06<00:31,  2.22s/it]"
     ]
    },
    {
     "name": "stdout",
     "output_type": "stream",
     "text": [
      "real epoch: 3\n"
     ]
    },
    {
     "name": "stderr",
     "output_type": "stream",
     "text": [
      " 24%|██▎       | 4/17 [00:07<00:19,  1.52s/it]"
     ]
    },
    {
     "name": "stdout",
     "output_type": "stream",
     "text": [
      "real epoch: 4\n"
     ]
    },
    {
     "name": "stderr",
     "output_type": "stream",
     "text": [
      " 29%|██▉       | 5/17 [00:07<00:13,  1.15s/it]"
     ]
    },
    {
     "name": "stdout",
     "output_type": "stream",
     "text": [
      "real epoch: 5\n"
     ]
    },
    {
     "name": "stderr",
     "output_type": "stream",
     "text": [
      " 35%|███▌      | 6/17 [00:08<00:10,  1.02it/s]"
     ]
    },
    {
     "name": "stdout",
     "output_type": "stream",
     "text": [
      "real epoch: 6\n"
     ]
    },
    {
     "name": "stderr",
     "output_type": "stream",
     "text": [
      " 41%|████      | 7/17 [00:09<00:08,  1.16it/s]"
     ]
    },
    {
     "name": "stdout",
     "output_type": "stream",
     "text": [
      "real epoch: 7\n"
     ]
    },
    {
     "name": "stderr",
     "output_type": "stream",
     "text": [
      " 47%|████▋     | 8/17 [00:09<00:07,  1.25it/s]"
     ]
    },
    {
     "name": "stdout",
     "output_type": "stream",
     "text": [
      "real epoch: 8\n"
     ]
    },
    {
     "name": "stderr",
     "output_type": "stream",
     "text": [
      " 53%|█████▎    | 9/17 [00:10<00:06,  1.21it/s]"
     ]
    },
    {
     "name": "stdout",
     "output_type": "stream",
     "text": [
      "real epoch: 9\n"
     ]
    },
    {
     "name": "stderr",
     "output_type": "stream",
     "text": [
      " 59%|█████▉    | 10/17 [00:11<00:06,  1.03it/s]"
     ]
    },
    {
     "name": "stdout",
     "output_type": "stream",
     "text": [
      "real epoch: 10\n"
     ]
    },
    {
     "name": "stderr",
     "output_type": "stream",
     "text": [
      " 65%|██████▍   | 11/17 [00:13<00:07,  1.17s/it]"
     ]
    },
    {
     "name": "stdout",
     "output_type": "stream",
     "text": [
      "real epoch: 11\n"
     ]
    },
    {
     "name": "stderr",
     "output_type": "stream",
     "text": [
      " 71%|███████   | 12/17 [00:14<00:06,  1.22s/it]"
     ]
    },
    {
     "name": "stdout",
     "output_type": "stream",
     "text": [
      "real epoch: 12\n"
     ]
    },
    {
     "name": "stderr",
     "output_type": "stream",
     "text": [
      " 76%|███████▋  | 13/17 [00:16<00:04,  1.19s/it]"
     ]
    },
    {
     "name": "stdout",
     "output_type": "stream",
     "text": [
      "real epoch: 13\n"
     ]
    },
    {
     "name": "stderr",
     "output_type": "stream",
     "text": [
      " 82%|████████▏ | 14/17 [00:17<00:03,  1.22s/it]"
     ]
    },
    {
     "name": "stdout",
     "output_type": "stream",
     "text": [
      "real epoch: 14\n"
     ]
    },
    {
     "name": "stderr",
     "output_type": "stream",
     "text": [
      " 88%|████████▊ | 15/17 [00:18<00:02,  1.25s/it]"
     ]
    },
    {
     "name": "stdout",
     "output_type": "stream",
     "text": [
      "real epoch: 15\n"
     ]
    },
    {
     "name": "stderr",
     "output_type": "stream",
     "text": [
      " 94%|█████████▍| 16/17 [00:19<00:01,  1.26s/it]"
     ]
    },
    {
     "name": "stdout",
     "output_type": "stream",
     "text": [
      "real epoch: 16\n"
     ]
    },
    {
     "name": "stderr",
     "output_type": "stream",
     "text": [
      "100%|██████████| 17/17 [00:21<00:00,  1.26s/it]\n"
     ]
    },
    {
     "ename": "TypeError",
     "evalue": "'int' object is not subscriptable",
     "output_type": "error",
     "traceback": [
      "\u001b[0;31m---------------------------------------------------------------------------\u001b[0m",
      "\u001b[0;31mTypeError\u001b[0m                                 Traceback (most recent call last)",
      "\u001b[0;32m/tmp/ipykernel_3769808/880867920.py\u001b[0m in \u001b[0;36m<module>\u001b[0;34m\u001b[0m\n\u001b[1;32m     31\u001b[0m \u001b[0;34m\u001b[0m\u001b[0m\n\u001b[1;32m     32\u001b[0m \u001b[0;32mfor\u001b[0m \u001b[0mk\u001b[0m\u001b[0;34m,\u001b[0m \u001b[0mv\u001b[0m \u001b[0;32min\u001b[0m \u001b[0mcounts\u001b[0m\u001b[0;34m.\u001b[0m\u001b[0mitems\u001b[0m\u001b[0;34m(\u001b[0m\u001b[0;34m)\u001b[0m\u001b[0;34m:\u001b[0m\u001b[0;34m\u001b[0m\u001b[0;34m\u001b[0m\u001b[0m\n\u001b[0;32m---> 33\u001b[0;31m     \u001b[0mprint\u001b[0m\u001b[0;34m(\u001b[0m\u001b[0mk\u001b[0m\u001b[0;34m,\u001b[0m \u001b[0mcollections\u001b[0m\u001b[0;34m.\u001b[0m\u001b[0mCounter\u001b[0m\u001b[0;34m(\u001b[0m\u001b[0msorted\u001b[0m\u001b[0;34m(\u001b[0m\u001b[0mv\u001b[0m\u001b[0;34m.\u001b[0m\u001b[0mvalues\u001b[0m\u001b[0;34m(\u001b[0m\u001b[0;34m)\u001b[0m\u001b[0;34m,\u001b[0m \u001b[0mkey\u001b[0m\u001b[0;34m=\u001b[0m\u001b[0;32mlambda\u001b[0m \u001b[0mx\u001b[0m\u001b[0;34m:\u001b[0m \u001b[0mx\u001b[0m\u001b[0;34m[\u001b[0m\u001b[0;36m0\u001b[0m\u001b[0;34m]\u001b[0m\u001b[0;34m)\u001b[0m\u001b[0;34m)\u001b[0m\u001b[0;34m)\u001b[0m\u001b[0;34m\u001b[0m\u001b[0;34m\u001b[0m\u001b[0m\n\u001b[0m\u001b[1;32m     34\u001b[0m \u001b[0;34m\u001b[0m\u001b[0m\n\u001b[1;32m     35\u001b[0m \u001b[0;32mfor\u001b[0m \u001b[0mk\u001b[0m\u001b[0;34m,\u001b[0m \u001b[0mv\u001b[0m \u001b[0;32min\u001b[0m \u001b[0mcounts_levels\u001b[0m\u001b[0;34m.\u001b[0m\u001b[0mitems\u001b[0m\u001b[0;34m(\u001b[0m\u001b[0;34m)\u001b[0m\u001b[0;34m:\u001b[0m\u001b[0;34m\u001b[0m\u001b[0;34m\u001b[0m\u001b[0m\n",
      "\u001b[0;32m/tmp/ipykernel_3769808/880867920.py\u001b[0m in \u001b[0;36m<lambda>\u001b[0;34m(x)\u001b[0m\n\u001b[1;32m     31\u001b[0m \u001b[0;34m\u001b[0m\u001b[0m\n\u001b[1;32m     32\u001b[0m \u001b[0;32mfor\u001b[0m \u001b[0mk\u001b[0m\u001b[0;34m,\u001b[0m \u001b[0mv\u001b[0m \u001b[0;32min\u001b[0m \u001b[0mcounts\u001b[0m\u001b[0;34m.\u001b[0m\u001b[0mitems\u001b[0m\u001b[0;34m(\u001b[0m\u001b[0;34m)\u001b[0m\u001b[0;34m:\u001b[0m\u001b[0;34m\u001b[0m\u001b[0;34m\u001b[0m\u001b[0m\n\u001b[0;32m---> 33\u001b[0;31m     \u001b[0mprint\u001b[0m\u001b[0;34m(\u001b[0m\u001b[0mk\u001b[0m\u001b[0;34m,\u001b[0m \u001b[0mcollections\u001b[0m\u001b[0;34m.\u001b[0m\u001b[0mCounter\u001b[0m\u001b[0;34m(\u001b[0m\u001b[0msorted\u001b[0m\u001b[0;34m(\u001b[0m\u001b[0mv\u001b[0m\u001b[0;34m.\u001b[0m\u001b[0mvalues\u001b[0m\u001b[0;34m(\u001b[0m\u001b[0;34m)\u001b[0m\u001b[0;34m,\u001b[0m \u001b[0mkey\u001b[0m\u001b[0;34m=\u001b[0m\u001b[0;32mlambda\u001b[0m \u001b[0mx\u001b[0m\u001b[0;34m:\u001b[0m \u001b[0mx\u001b[0m\u001b[0;34m[\u001b[0m\u001b[0;36m0\u001b[0m\u001b[0;34m]\u001b[0m\u001b[0;34m)\u001b[0m\u001b[0;34m)\u001b[0m\u001b[0;34m)\u001b[0m\u001b[0;34m\u001b[0m\u001b[0;34m\u001b[0m\u001b[0m\n\u001b[0m\u001b[1;32m     34\u001b[0m \u001b[0;34m\u001b[0m\u001b[0m\n\u001b[1;32m     35\u001b[0m \u001b[0;32mfor\u001b[0m \u001b[0mk\u001b[0m\u001b[0;34m,\u001b[0m \u001b[0mv\u001b[0m \u001b[0;32min\u001b[0m \u001b[0mcounts_levels\u001b[0m\u001b[0;34m.\u001b[0m\u001b[0mitems\u001b[0m\u001b[0;34m(\u001b[0m\u001b[0;34m)\u001b[0m\u001b[0;34m:\u001b[0m\u001b[0;34m\u001b[0m\u001b[0;34m\u001b[0m\u001b[0m\n",
      "\u001b[0;31mTypeError\u001b[0m: 'int' object is not subscriptable"
     ]
    }
   ],
   "source": [
    "readers = [jsonl.open(file, \"r\") for file in selected]\n",
    "\n",
    "file_iterator = [iter(reader) for reader in readers]\n",
    "\"\"\"\n",
    "epoch:\n",
    "- {results: {input_eqn_str: {is_freeform_bool: {'per_batch_mode': tensor_list}}}}\n",
    "- \n",
    "\n",
    "\"\"\"\n",
    "counts = collections.defaultdict(lambda: collections.defaultdict(int))\n",
    "counts_levels = collections.defaultdict(lambda: collections.defaultdict(int))\n",
    "\n",
    "for epoch_num in tqdm(range(min_length)):\n",
    "    eq = None\n",
    "    print(f\"real epoch: {epoch_num}\")\n",
    "    for file_idx, per_file in enumerate(file_iterator):\n",
    "        per_file_per_epoch = next(per_file)\n",
    "        if epoch_num == 0:\n",
    "            continue\n",
    "\n",
    "        assert per_file_per_epoch[\"epoch\"] == epoch_num - 1, (per_file_per_epoch[\"epoch\"], epoch_num - 1)\n",
    "        keys = per_file_per_epoch[\"results\"].keys()\n",
    "        \n",
    "        for key in keys:\n",
    "            \n",
    "            counts[per_file_per_epoch[\"epoch\"]][key.strip()] += 1\n",
    "\n",
    "            if per_file_per_epoch[\"epoch\"] == 0:\n",
    "                level = datagen.tree_depth_from_str(key)\n",
    "                counts_levels[file_idx][level] += 1\n",
    "\n",
    "    \n"
   ]
  },
  {
   "cell_type": "code",
   "execution_count": 10,
   "metadata": {},
   "outputs": [
    {
     "name": "stdout",
     "output_type": "stream",
     "text": [
      "epoch 0 Counter({1: 50915, 2: 1264, 3: 19, 4: 1})\n",
      "epoch 1 Counter({1: 50915, 2: 1264, 3: 19, 4: 1})\n",
      "epoch 2 Counter({1: 50915, 2: 1264, 3: 19, 4: 1})\n",
      "epoch 3 Counter({1: 50915, 2: 1264, 3: 19, 4: 1})\n",
      "epoch 4 Counter({1: 50915, 2: 1264, 3: 19, 4: 1})\n",
      "epoch 5 Counter({1: 50915, 2: 1264, 3: 19, 4: 1})\n",
      "epoch 6 Counter({1: 50915, 2: 1264, 3: 19, 4: 1})\n",
      "epoch 7 Counter({1: 50915, 2: 1264, 3: 19, 4: 1})\n",
      "epoch 8 Counter({1: 50915, 2: 1264, 3: 19, 4: 1})\n",
      "epoch 9 Counter({1: 50915, 2: 1264, 3: 19, 4: 1})\n",
      "epoch 10 Counter({1: 50915, 2: 1264, 3: 19, 4: 1})\n",
      "epoch 11 Counter({1: 50915, 2: 1264, 3: 19, 4: 1})\n",
      "epoch 12 Counter({1: 50915, 2: 1264, 3: 19, 4: 1})\n",
      "epoch 13 Counter({1: 50915, 2: 1264, 3: 19, 4: 1})\n",
      "epoch 14 Counter({1: 50915, 2: 1264, 3: 19, 4: 1})\n",
      "epoch 15 Counter({1: 50915, 2: 1264, 3: 19, 4: 1})\n",
      "file 0 {1: 3, 2: 987, 3: 974, 4: 950, 5: 988, 6: 962}\n",
      "file 1 {2: 916, 3: 934, 4: 1007, 5: 1020, 6: 987}\n",
      "file 2 {1: 1, 2: 958, 3: 956, 4: 994, 5: 940, 6: 1015}\n",
      "file 3 {1: 2, 2: 948, 3: 963, 4: 984, 5: 1000, 6: 967}\n",
      "file 4 {2: 977, 3: 1001, 4: 969, 5: 927, 6: 990}\n",
      "file 5 {1: 1, 2: 939, 3: 989, 4: 994, 5: 966, 6: 975}\n",
      "file 6 {1: 1, 2: 942, 3: 993, 4: 974, 5: 984, 6: 970}\n",
      "file 7 {2: 962, 3: 1020, 4: 969, 5: 953, 6: 960}\n",
      "file 8 {1: 3, 2: 958, 3: 973, 4: 971, 5: 960, 6: 999}\n",
      "file 9 {2: 965, 3: 1012, 4: 931, 5: 1000, 6: 956}\n",
      "file 10 {1: 2, 2: 945, 3: 1024, 4: 959, 5: 948, 6: 986}\n"
     ]
    }
   ],
   "source": [
    "for k, v in counts.items():\n",
    "    print(\"epoch\", k, collections.Counter(v.values()))\n",
    "\n",
    "for k, v in counts_levels.items():\n",
    "    print(\"file\", k, dict(sorted(v.items(), key=lambda x: x[0])))\n"
   ]
  },
  {
   "cell_type": "code",
   "execution_count": null,
   "metadata": {},
   "outputs": [],
   "source": []
  }
 ],
 "metadata": {
  "kernelspec": {
   "display_name": "Python 3.9.5 64-bit",
   "language": "python",
   "name": "python3"
  },
  "language_info": {
   "codemirror_mode": {
    "name": "ipython",
    "version": 3
   },
   "file_extension": ".py",
   "mimetype": "text/x-python",
   "name": "python",
   "nbconvert_exporter": "python",
   "pygments_lexer": "ipython3",
   "version": "3.9.5"
  },
  "orig_nbformat": 4,
  "vscode": {
   "interpreter": {
    "hash": "46daadc73974f0324ecc1592e5131128499dc93a3a1cbadf14a4773500af3ac4"
   }
  }
 },
 "nbformat": 4,
 "nbformat_minor": 2
}
