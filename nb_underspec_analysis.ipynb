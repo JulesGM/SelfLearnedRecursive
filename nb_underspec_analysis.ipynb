{
 "cells": [
  {
   "cell_type": "code",
   "execution_count": 1,
   "metadata": {},
   "outputs": [
    {
     "name": "stdout",
     "output_type": "stream",
     "text": [
      "Doing imports\n",
      "Done with other imports\n",
      "Done with torch\n"
     ]
    }
   ],
   "source": [
    "print(\"Doing imports\")\n",
    "import collections\n",
    "import math\n",
    "from pathlib import Path\n",
    "import itertools\n",
    "import subprocess\n",
    "import time\n",
    "import concurrent.futures\n",
    "import multiprocessing\n",
    "\n",
    "import beartype\n",
    "from beartype.typing import *\n",
    "import matplotlib.pyplot as plt\n",
    "import more_itertools\n",
    "import numpy as np\n",
    "# import ujson as json\n",
    "import orjson as json\n",
    "import jsonlines as jsonl\n",
    "import rich\n",
    "from tqdm import tqdm\n",
    "\n",
    "\n",
    "print(\"Done with other imports\")\n",
    "\n",
    "import our_tokenizer\n",
    "# import data_generation_arithmetic\n",
    "\n",
    "print(\"Done with torch\")\n",
    "\n",
    "\n",
    "def cmd(command: list[str]) -> list[str]:\n",
    "    return subprocess.check_output(command).decode(\"utf-8\").strip().split(\"\\n\")\n",
    "\n",
    "def only_one(it: Iterable):\n",
    "    iterated = iter(it)\n",
    "    good = next(iterated)\n",
    "    for bad in iterated:\n",
    "        raise ValueError(\"Expected only one item, got more than one.\")\n",
    "    return good\n",
    "\n",
    "def check_len(it: Sequence, expected_len: int) -> Sequence:\n",
    "    if not len(it) == expected_len:\n",
    "        raise ValueError(f\"Expected {expected_len} items, got {len(it)}.\")\n",
    "    return it\n",
    "\n",
    "def count_lines(path: Path) -> int:\n",
    "    return int(check_len(only_one(cmd([\"wc\", \"-l\", str(path)])).split(), 2)[0])\n",
    "\n",
    "def count_lines_list(paths: Path) -> int:\n",
    "    with concurrent.futures.ThreadPoolExecutor() as tp:\n",
    "        futures = {file: tp.submit(lambda: count_lines(file)) for file in paths}\n",
    "        return {file: future.result() for file, future in futures.items()}\n",
    "    "
   ]
  },
  {
   "cell_type": "code",
   "execution_count": 2,
   "metadata": {},
   "outputs": [
    {
     "name": "stderr",
     "output_type": "stream",
     "text": [
      "100%|██████████| 33/33 [00:00<00:00, 1796.25it/s]\n"
     ]
    },
    {
     "data": {
      "text/html": [
       "<pre style=\"white-space:pre;overflow-x:auto;line-height:normal;font-family:Menlo,'DejaVu Sans Mono',consolas,'Courier New',monospace\">Directories:\n",
       "</pre>\n"
      ],
      "text/plain": [
       "Directories:\n"
      ]
     },
     "metadata": {},
     "output_type": "display_data"
    },
    {
     "data": {
      "text/html": [
       "<pre style=\"white-space:pre;overflow-x:auto;line-height:normal;font-family:Menlo,'DejaVu Sans Mono',consolas,'Courier New',monospace\"><span style=\"font-weight: bold\">[</span>\n",
       "    <span style=\"color: #800080; text-decoration-color: #800080; font-weight: bold\">PosixPath</span><span style=\"font-weight: bold\">(</span><span style=\"color: #008000; text-decoration-color: #008000\">'log_results/oracle/oracle_0/predictions.jsonl'</span><span style=\"font-weight: bold\">)</span>,\n",
       "    <span style=\"color: #800080; text-decoration-color: #800080; font-weight: bold\">PosixPath</span><span style=\"font-weight: bold\">(</span><span style=\"color: #008000; text-decoration-color: #008000\">'log_results/oracle/oracle_1/predictions.jsonl'</span><span style=\"font-weight: bold\">)</span>,\n",
       "    <span style=\"color: #800080; text-decoration-color: #800080; font-weight: bold\">PosixPath</span><span style=\"font-weight: bold\">(</span><span style=\"color: #008000; text-decoration-color: #008000\">'log_results/oracle/oracle_2/predictions.jsonl'</span><span style=\"font-weight: bold\">)</span>,\n",
       "    <span style=\"color: #800080; text-decoration-color: #800080; font-weight: bold\">PosixPath</span><span style=\"font-weight: bold\">(</span><span style=\"color: #008000; text-decoration-color: #008000\">'log_results/oracle/oracle_3/predictions.jsonl'</span><span style=\"font-weight: bold\">)</span>,\n",
       "    <span style=\"color: #800080; text-decoration-color: #800080; font-weight: bold\">PosixPath</span><span style=\"font-weight: bold\">(</span><span style=\"color: #008000; text-decoration-color: #008000\">'log_results/oracle/oracle_4/predictions.jsonl'</span><span style=\"font-weight: bold\">)</span>,\n",
       "    <span style=\"color: #800080; text-decoration-color: #800080; font-weight: bold\">PosixPath</span><span style=\"font-weight: bold\">(</span><span style=\"color: #008000; text-decoration-color: #008000\">'log_results/oracle/oracle_5/predictions.jsonl'</span><span style=\"font-weight: bold\">)</span>,\n",
       "    <span style=\"color: #800080; text-decoration-color: #800080; font-weight: bold\">PosixPath</span><span style=\"font-weight: bold\">(</span><span style=\"color: #008000; text-decoration-color: #008000\">'log_results/oracle/oracle_6/predictions.jsonl'</span><span style=\"font-weight: bold\">)</span>,\n",
       "    <span style=\"color: #800080; text-decoration-color: #800080; font-weight: bold\">PosixPath</span><span style=\"font-weight: bold\">(</span><span style=\"color: #008000; text-decoration-color: #008000\">'log_results/oracle/oracle_7/predictions.jsonl'</span><span style=\"font-weight: bold\">)</span>,\n",
       "    <span style=\"color: #800080; text-decoration-color: #800080; font-weight: bold\">PosixPath</span><span style=\"font-weight: bold\">(</span><span style=\"color: #008000; text-decoration-color: #008000\">'log_results/oracle/oracle_8/predictions.jsonl'</span><span style=\"font-weight: bold\">)</span>,\n",
       "    <span style=\"color: #800080; text-decoration-color: #800080; font-weight: bold\">PosixPath</span><span style=\"font-weight: bold\">(</span><span style=\"color: #008000; text-decoration-color: #008000\">'log_results/oracle/oracle_9/predictions.jsonl'</span><span style=\"font-weight: bold\">)</span>,\n",
       "    <span style=\"color: #800080; text-decoration-color: #800080; font-weight: bold\">PosixPath</span><span style=\"font-weight: bold\">(</span><span style=\"color: #008000; text-decoration-color: #008000\">'log_results/oracle/oracle_10/predictions.jsonl'</span><span style=\"font-weight: bold\">)</span>,\n",
       "    <span style=\"color: #800080; text-decoration-color: #800080; font-weight: bold\">PosixPath</span><span style=\"font-weight: bold\">(</span><span style=\"color: #008000; text-decoration-color: #008000\">'log_results/oracle/oracle_11/predictions.jsonl'</span><span style=\"font-weight: bold\">)</span>,\n",
       "    <span style=\"color: #800080; text-decoration-color: #800080; font-weight: bold\">PosixPath</span><span style=\"font-weight: bold\">(</span><span style=\"color: #008000; text-decoration-color: #008000\">'log_results/oracle/oracle_12/predictions.jsonl'</span><span style=\"font-weight: bold\">)</span>,\n",
       "    <span style=\"color: #800080; text-decoration-color: #800080; font-weight: bold\">PosixPath</span><span style=\"font-weight: bold\">(</span><span style=\"color: #008000; text-decoration-color: #008000\">'log_results/oracle/oracle_13/predictions.jsonl'</span><span style=\"font-weight: bold\">)</span>,\n",
       "    <span style=\"color: #800080; text-decoration-color: #800080; font-weight: bold\">PosixPath</span><span style=\"font-weight: bold\">(</span><span style=\"color: #008000; text-decoration-color: #008000\">'log_results/oracle/oracle_14/predictions.jsonl'</span><span style=\"font-weight: bold\">)</span>,\n",
       "    <span style=\"color: #800080; text-decoration-color: #800080; font-weight: bold\">PosixPath</span><span style=\"font-weight: bold\">(</span><span style=\"color: #008000; text-decoration-color: #008000\">'log_results/oracle/oracle_15/predictions.jsonl'</span><span style=\"font-weight: bold\">)</span>,\n",
       "    <span style=\"color: #800080; text-decoration-color: #800080; font-weight: bold\">PosixPath</span><span style=\"font-weight: bold\">(</span><span style=\"color: #008000; text-decoration-color: #008000\">'log_results/oracle/oracle_16/predictions.jsonl'</span><span style=\"font-weight: bold\">)</span>\n",
       "<span style=\"font-weight: bold\">]</span>\n",
       "</pre>\n"
      ],
      "text/plain": [
       "\u001b[1m[\u001b[0m\n",
       "    \u001b[1;35mPosixPath\u001b[0m\u001b[1m(\u001b[0m\u001b[32m'log_results/oracle/oracle_0/predictions.jsonl'\u001b[0m\u001b[1m)\u001b[0m,\n",
       "    \u001b[1;35mPosixPath\u001b[0m\u001b[1m(\u001b[0m\u001b[32m'log_results/oracle/oracle_1/predictions.jsonl'\u001b[0m\u001b[1m)\u001b[0m,\n",
       "    \u001b[1;35mPosixPath\u001b[0m\u001b[1m(\u001b[0m\u001b[32m'log_results/oracle/oracle_2/predictions.jsonl'\u001b[0m\u001b[1m)\u001b[0m,\n",
       "    \u001b[1;35mPosixPath\u001b[0m\u001b[1m(\u001b[0m\u001b[32m'log_results/oracle/oracle_3/predictions.jsonl'\u001b[0m\u001b[1m)\u001b[0m,\n",
       "    \u001b[1;35mPosixPath\u001b[0m\u001b[1m(\u001b[0m\u001b[32m'log_results/oracle/oracle_4/predictions.jsonl'\u001b[0m\u001b[1m)\u001b[0m,\n",
       "    \u001b[1;35mPosixPath\u001b[0m\u001b[1m(\u001b[0m\u001b[32m'log_results/oracle/oracle_5/predictions.jsonl'\u001b[0m\u001b[1m)\u001b[0m,\n",
       "    \u001b[1;35mPosixPath\u001b[0m\u001b[1m(\u001b[0m\u001b[32m'log_results/oracle/oracle_6/predictions.jsonl'\u001b[0m\u001b[1m)\u001b[0m,\n",
       "    \u001b[1;35mPosixPath\u001b[0m\u001b[1m(\u001b[0m\u001b[32m'log_results/oracle/oracle_7/predictions.jsonl'\u001b[0m\u001b[1m)\u001b[0m,\n",
       "    \u001b[1;35mPosixPath\u001b[0m\u001b[1m(\u001b[0m\u001b[32m'log_results/oracle/oracle_8/predictions.jsonl'\u001b[0m\u001b[1m)\u001b[0m,\n",
       "    \u001b[1;35mPosixPath\u001b[0m\u001b[1m(\u001b[0m\u001b[32m'log_results/oracle/oracle_9/predictions.jsonl'\u001b[0m\u001b[1m)\u001b[0m,\n",
       "    \u001b[1;35mPosixPath\u001b[0m\u001b[1m(\u001b[0m\u001b[32m'log_results/oracle/oracle_10/predictions.jsonl'\u001b[0m\u001b[1m)\u001b[0m,\n",
       "    \u001b[1;35mPosixPath\u001b[0m\u001b[1m(\u001b[0m\u001b[32m'log_results/oracle/oracle_11/predictions.jsonl'\u001b[0m\u001b[1m)\u001b[0m,\n",
       "    \u001b[1;35mPosixPath\u001b[0m\u001b[1m(\u001b[0m\u001b[32m'log_results/oracle/oracle_12/predictions.jsonl'\u001b[0m\u001b[1m)\u001b[0m,\n",
       "    \u001b[1;35mPosixPath\u001b[0m\u001b[1m(\u001b[0m\u001b[32m'log_results/oracle/oracle_13/predictions.jsonl'\u001b[0m\u001b[1m)\u001b[0m,\n",
       "    \u001b[1;35mPosixPath\u001b[0m\u001b[1m(\u001b[0m\u001b[32m'log_results/oracle/oracle_14/predictions.jsonl'\u001b[0m\u001b[1m)\u001b[0m,\n",
       "    \u001b[1;35mPosixPath\u001b[0m\u001b[1m(\u001b[0m\u001b[32m'log_results/oracle/oracle_15/predictions.jsonl'\u001b[0m\u001b[1m)\u001b[0m,\n",
       "    \u001b[1;35mPosixPath\u001b[0m\u001b[1m(\u001b[0m\u001b[32m'log_results/oracle/oracle_16/predictions.jsonl'\u001b[0m\u001b[1m)\u001b[0m\n",
       "\u001b[1m]\u001b[0m\n"
      ]
     },
     "metadata": {},
     "output_type": "display_data"
    },
    {
     "data": {
      "text/html": [
       "<pre style=\"white-space:pre;overflow-x:auto;line-height:normal;font-family:Menlo,'DejaVu Sans Mono',consolas,'Courier New',monospace\">Doing count line pre-filtration\n",
       "</pre>\n"
      ],
      "text/plain": [
       "Doing count line pre-filtration\n"
      ]
     },
     "metadata": {},
     "output_type": "display_data"
    },
    {
     "data": {
      "text/html": [
       "<pre style=\"white-space:pre;overflow-x:auto;line-height:normal;font-family:Menlo,'DejaVu Sans Mono',consolas,'Courier New',monospace\">Took <span style=\"color: #008080; text-decoration-color: #008080; font-weight: bold\">11.321101201232523</span> seconds\n",
       "</pre>\n"
      ],
      "text/plain": [
       "Took \u001b[1;36m11.321101201232523\u001b[0m seconds\n"
      ]
     },
     "metadata": {},
     "output_type": "display_data"
    },
    {
     "name": "stderr",
     "output_type": "stream",
     "text": [
      "filtering: 100%|██████████| 17/17 [00:00<00:00, 68298.05it/s]\n",
      "count lines post-filtration: 100%|██████████| 17/17 [00:00<00:00, 71805.81it/s]\n"
     ]
    },
    {
     "data": {
      "text/html": [
       "<pre style=\"white-space:pre;overflow-x:auto;line-height:normal;font-family:Menlo,'DejaVu Sans Mono',consolas,'Courier New',monospace\">Length counter pre-filtration\n",
       "<span style=\"color: #800080; text-decoration-color: #800080; font-weight: bold\">Counter</span><span style=\"font-weight: bold\">({</span>\n",
       "    <span style=\"color: #800080; text-decoration-color: #800080; font-weight: bold\">PosixPath</span><span style=\"font-weight: bold\">(</span><span style=\"color: #008000; text-decoration-color: #008000\">'log_results/oracle/oracle_0/predictions.jsonl'</span><span style=\"font-weight: bold\">)</span>: <span style=\"color: #008080; text-decoration-color: #008080; font-weight: bold\">57</span>,\n",
       "    <span style=\"color: #800080; text-decoration-color: #800080; font-weight: bold\">PosixPath</span><span style=\"font-weight: bold\">(</span><span style=\"color: #008000; text-decoration-color: #008000\">'log_results/oracle/oracle_1/predictions.jsonl'</span><span style=\"font-weight: bold\">)</span>: <span style=\"color: #008080; text-decoration-color: #008080; font-weight: bold\">55</span>,\n",
       "    <span style=\"color: #800080; text-decoration-color: #800080; font-weight: bold\">PosixPath</span><span style=\"font-weight: bold\">(</span><span style=\"color: #008000; text-decoration-color: #008000\">'log_results/oracle/oracle_2/predictions.jsonl'</span><span style=\"font-weight: bold\">)</span>: <span style=\"color: #008080; text-decoration-color: #008080; font-weight: bold\">68</span>,\n",
       "    <span style=\"color: #800080; text-decoration-color: #800080; font-weight: bold\">PosixPath</span><span style=\"font-weight: bold\">(</span><span style=\"color: #008000; text-decoration-color: #008000\">'log_results/oracle/oracle_3/predictions.jsonl'</span><span style=\"font-weight: bold\">)</span>: <span style=\"color: #008080; text-decoration-color: #008080; font-weight: bold\">66</span>,\n",
       "    <span style=\"color: #800080; text-decoration-color: #800080; font-weight: bold\">PosixPath</span><span style=\"font-weight: bold\">(</span><span style=\"color: #008000; text-decoration-color: #008000\">'log_results/oracle/oracle_4/predictions.jsonl'</span><span style=\"font-weight: bold\">)</span>: <span style=\"color: #008080; text-decoration-color: #008080; font-weight: bold\">68</span>,\n",
       "    <span style=\"color: #800080; text-decoration-color: #800080; font-weight: bold\">PosixPath</span><span style=\"font-weight: bold\">(</span><span style=\"color: #008000; text-decoration-color: #008000\">'log_results/oracle/oracle_5/predictions.jsonl'</span><span style=\"font-weight: bold\">)</span>: <span style=\"color: #008080; text-decoration-color: #008080; font-weight: bold\">67</span>,\n",
       "    <span style=\"color: #800080; text-decoration-color: #800080; font-weight: bold\">PosixPath</span><span style=\"font-weight: bold\">(</span><span style=\"color: #008000; text-decoration-color: #008000\">'log_results/oracle/oracle_6/predictions.jsonl'</span><span style=\"font-weight: bold\">)</span>: <span style=\"color: #008080; text-decoration-color: #008080; font-weight: bold\">67</span>,\n",
       "    <span style=\"color: #800080; text-decoration-color: #800080; font-weight: bold\">PosixPath</span><span style=\"font-weight: bold\">(</span><span style=\"color: #008000; text-decoration-color: #008000\">'log_results/oracle/oracle_7/predictions.jsonl'</span><span style=\"font-weight: bold\">)</span>: <span style=\"color: #008080; text-decoration-color: #008080; font-weight: bold\">66</span>,\n",
       "    <span style=\"color: #800080; text-decoration-color: #800080; font-weight: bold\">PosixPath</span><span style=\"font-weight: bold\">(</span><span style=\"color: #008000; text-decoration-color: #008000\">'log_results/oracle/oracle_8/predictions.jsonl'</span><span style=\"font-weight: bold\">)</span>: <span style=\"color: #008080; text-decoration-color: #008080; font-weight: bold\">67</span>,\n",
       "    <span style=\"color: #800080; text-decoration-color: #800080; font-weight: bold\">PosixPath</span><span style=\"font-weight: bold\">(</span><span style=\"color: #008000; text-decoration-color: #008000\">'log_results/oracle/oracle_9/predictions.jsonl'</span><span style=\"font-weight: bold\">)</span>: <span style=\"color: #008080; text-decoration-color: #008080; font-weight: bold\">68</span>,\n",
       "    <span style=\"color: #800080; text-decoration-color: #800080; font-weight: bold\">PosixPath</span><span style=\"font-weight: bold\">(</span><span style=\"color: #008000; text-decoration-color: #008000\">'log_results/oracle/oracle_10/predictions.jsonl'</span><span style=\"font-weight: bold\">)</span>: <span style=\"color: #008080; text-decoration-color: #008080; font-weight: bold\">68</span>,\n",
       "    <span style=\"color: #800080; text-decoration-color: #800080; font-weight: bold\">PosixPath</span><span style=\"font-weight: bold\">(</span><span style=\"color: #008000; text-decoration-color: #008000\">'log_results/oracle/oracle_11/predictions.jsonl'</span><span style=\"font-weight: bold\">)</span>: <span style=\"color: #008080; text-decoration-color: #008080; font-weight: bold\">67</span>,\n",
       "    <span style=\"color: #800080; text-decoration-color: #800080; font-weight: bold\">PosixPath</span><span style=\"font-weight: bold\">(</span><span style=\"color: #008000; text-decoration-color: #008000\">'log_results/oracle/oracle_12/predictions.jsonl'</span><span style=\"font-weight: bold\">)</span>: <span style=\"color: #008080; text-decoration-color: #008080; font-weight: bold\">68</span>,\n",
       "    <span style=\"color: #800080; text-decoration-color: #800080; font-weight: bold\">PosixPath</span><span style=\"font-weight: bold\">(</span><span style=\"color: #008000; text-decoration-color: #008000\">'log_results/oracle/oracle_13/predictions.jsonl'</span><span style=\"font-weight: bold\">)</span>: <span style=\"color: #008080; text-decoration-color: #008080; font-weight: bold\">67</span>,\n",
       "    <span style=\"color: #800080; text-decoration-color: #800080; font-weight: bold\">PosixPath</span><span style=\"font-weight: bold\">(</span><span style=\"color: #008000; text-decoration-color: #008000\">'log_results/oracle/oracle_14/predictions.jsonl'</span><span style=\"font-weight: bold\">)</span>: <span style=\"color: #008080; text-decoration-color: #008080; font-weight: bold\">67</span>,\n",
       "    <span style=\"color: #800080; text-decoration-color: #800080; font-weight: bold\">PosixPath</span><span style=\"font-weight: bold\">(</span><span style=\"color: #008000; text-decoration-color: #008000\">'log_results/oracle/oracle_15/predictions.jsonl'</span><span style=\"font-weight: bold\">)</span>: <span style=\"color: #008080; text-decoration-color: #008080; font-weight: bold\">68</span>,\n",
       "    <span style=\"color: #800080; text-decoration-color: #800080; font-weight: bold\">PosixPath</span><span style=\"font-weight: bold\">(</span><span style=\"color: #008000; text-decoration-color: #008000\">'log_results/oracle/oracle_16/predictions.jsonl'</span><span style=\"font-weight: bold\">)</span>: <span style=\"color: #008080; text-decoration-color: #008080; font-weight: bold\">56</span>\n",
       "<span style=\"font-weight: bold\">})</span>\n",
       "</pre>\n"
      ],
      "text/plain": [
       "Length counter pre-filtration\n",
       "\u001b[1;35mCounter\u001b[0m\u001b[1m(\u001b[0m\u001b[1m{\u001b[0m\n",
       "    \u001b[1;35mPosixPath\u001b[0m\u001b[1m(\u001b[0m\u001b[32m'log_results/oracle/oracle_0/predictions.jsonl'\u001b[0m\u001b[1m)\u001b[0m: \u001b[1;36m57\u001b[0m,\n",
       "    \u001b[1;35mPosixPath\u001b[0m\u001b[1m(\u001b[0m\u001b[32m'log_results/oracle/oracle_1/predictions.jsonl'\u001b[0m\u001b[1m)\u001b[0m: \u001b[1;36m55\u001b[0m,\n",
       "    \u001b[1;35mPosixPath\u001b[0m\u001b[1m(\u001b[0m\u001b[32m'log_results/oracle/oracle_2/predictions.jsonl'\u001b[0m\u001b[1m)\u001b[0m: \u001b[1;36m68\u001b[0m,\n",
       "    \u001b[1;35mPosixPath\u001b[0m\u001b[1m(\u001b[0m\u001b[32m'log_results/oracle/oracle_3/predictions.jsonl'\u001b[0m\u001b[1m)\u001b[0m: \u001b[1;36m66\u001b[0m,\n",
       "    \u001b[1;35mPosixPath\u001b[0m\u001b[1m(\u001b[0m\u001b[32m'log_results/oracle/oracle_4/predictions.jsonl'\u001b[0m\u001b[1m)\u001b[0m: \u001b[1;36m68\u001b[0m,\n",
       "    \u001b[1;35mPosixPath\u001b[0m\u001b[1m(\u001b[0m\u001b[32m'log_results/oracle/oracle_5/predictions.jsonl'\u001b[0m\u001b[1m)\u001b[0m: \u001b[1;36m67\u001b[0m,\n",
       "    \u001b[1;35mPosixPath\u001b[0m\u001b[1m(\u001b[0m\u001b[32m'log_results/oracle/oracle_6/predictions.jsonl'\u001b[0m\u001b[1m)\u001b[0m: \u001b[1;36m67\u001b[0m,\n",
       "    \u001b[1;35mPosixPath\u001b[0m\u001b[1m(\u001b[0m\u001b[32m'log_results/oracle/oracle_7/predictions.jsonl'\u001b[0m\u001b[1m)\u001b[0m: \u001b[1;36m66\u001b[0m,\n",
       "    \u001b[1;35mPosixPath\u001b[0m\u001b[1m(\u001b[0m\u001b[32m'log_results/oracle/oracle_8/predictions.jsonl'\u001b[0m\u001b[1m)\u001b[0m: \u001b[1;36m67\u001b[0m,\n",
       "    \u001b[1;35mPosixPath\u001b[0m\u001b[1m(\u001b[0m\u001b[32m'log_results/oracle/oracle_9/predictions.jsonl'\u001b[0m\u001b[1m)\u001b[0m: \u001b[1;36m68\u001b[0m,\n",
       "    \u001b[1;35mPosixPath\u001b[0m\u001b[1m(\u001b[0m\u001b[32m'log_results/oracle/oracle_10/predictions.jsonl'\u001b[0m\u001b[1m)\u001b[0m: \u001b[1;36m68\u001b[0m,\n",
       "    \u001b[1;35mPosixPath\u001b[0m\u001b[1m(\u001b[0m\u001b[32m'log_results/oracle/oracle_11/predictions.jsonl'\u001b[0m\u001b[1m)\u001b[0m: \u001b[1;36m67\u001b[0m,\n",
       "    \u001b[1;35mPosixPath\u001b[0m\u001b[1m(\u001b[0m\u001b[32m'log_results/oracle/oracle_12/predictions.jsonl'\u001b[0m\u001b[1m)\u001b[0m: \u001b[1;36m68\u001b[0m,\n",
       "    \u001b[1;35mPosixPath\u001b[0m\u001b[1m(\u001b[0m\u001b[32m'log_results/oracle/oracle_13/predictions.jsonl'\u001b[0m\u001b[1m)\u001b[0m: \u001b[1;36m67\u001b[0m,\n",
       "    \u001b[1;35mPosixPath\u001b[0m\u001b[1m(\u001b[0m\u001b[32m'log_results/oracle/oracle_14/predictions.jsonl'\u001b[0m\u001b[1m)\u001b[0m: \u001b[1;36m67\u001b[0m,\n",
       "    \u001b[1;35mPosixPath\u001b[0m\u001b[1m(\u001b[0m\u001b[32m'log_results/oracle/oracle_15/predictions.jsonl'\u001b[0m\u001b[1m)\u001b[0m: \u001b[1;36m68\u001b[0m,\n",
       "    \u001b[1;35mPosixPath\u001b[0m\u001b[1m(\u001b[0m\u001b[32m'log_results/oracle/oracle_16/predictions.jsonl'\u001b[0m\u001b[1m)\u001b[0m: \u001b[1;36m56\u001b[0m\n",
       "\u001b[1m}\u001b[0m\u001b[1m)\u001b[0m\n"
      ]
     },
     "metadata": {},
     "output_type": "display_data"
    },
    {
     "data": {
      "text/html": [
       "<pre style=\"white-space:pre;overflow-x:auto;line-height:normal;font-family:Menlo,'DejaVu Sans Mono',consolas,'Courier New',monospace\">Number of files post filtration: <span style=\"color: #008080; text-decoration-color: #008080; font-weight: bold\">17</span>\n",
       "</pre>\n"
      ],
      "text/plain": [
       "Number of files post filtration: \u001b[1;36m17\u001b[0m\n"
      ]
     },
     "metadata": {},
     "output_type": "display_data"
    },
    {
     "data": {
      "text/html": [
       "<pre style=\"white-space:pre;overflow-x:auto;line-height:normal;font-family:Menlo,'DejaVu Sans Mono',consolas,'Courier New',monospace\">Length counter post filtration:\n",
       "<span style=\"color: #800080; text-decoration-color: #800080; font-weight: bold\">Counter</span><span style=\"font-weight: bold\">({</span><span style=\"color: #008080; text-decoration-color: #008080; font-weight: bold\">57</span>: <span style=\"color: #008080; text-decoration-color: #008080; font-weight: bold\">1</span>, <span style=\"color: #008080; text-decoration-color: #008080; font-weight: bold\">55</span>: <span style=\"color: #008080; text-decoration-color: #008080; font-weight: bold\">1</span>, <span style=\"color: #008080; text-decoration-color: #008080; font-weight: bold\">68</span>: <span style=\"color: #008080; text-decoration-color: #008080; font-weight: bold\">6</span>, <span style=\"color: #008080; text-decoration-color: #008080; font-weight: bold\">66</span>: <span style=\"color: #008080; text-decoration-color: #008080; font-weight: bold\">2</span>, <span style=\"color: #008080; text-decoration-color: #008080; font-weight: bold\">67</span>: <span style=\"color: #008080; text-decoration-color: #008080; font-weight: bold\">6</span>, <span style=\"color: #008080; text-decoration-color: #008080; font-weight: bold\">56</span>: <span style=\"color: #008080; text-decoration-color: #008080; font-weight: bold\">1</span><span style=\"font-weight: bold\">})</span>\n",
       "</pre>\n"
      ],
      "text/plain": [
       "Length counter post filtration:\n",
       "\u001b[1;35mCounter\u001b[0m\u001b[1m(\u001b[0m\u001b[1m{\u001b[0m\u001b[1;36m57\u001b[0m: \u001b[1;36m1\u001b[0m, \u001b[1;36m55\u001b[0m: \u001b[1;36m1\u001b[0m, \u001b[1;36m68\u001b[0m: \u001b[1;36m6\u001b[0m, \u001b[1;36m66\u001b[0m: \u001b[1;36m2\u001b[0m, \u001b[1;36m67\u001b[0m: \u001b[1;36m6\u001b[0m, \u001b[1;36m56\u001b[0m: \u001b[1;36m1\u001b[0m\u001b[1m}\u001b[0m\u001b[1m)\u001b[0m\n"
      ]
     },
     "metadata": {},
     "output_type": "display_data"
    },
    {
     "data": {
      "text/html": [
       "<pre style=\"white-space:pre;overflow-x:auto;line-height:normal;font-family:Menlo,'DejaVu Sans Mono',consolas,'Courier New',monospace\">Shortest file post filtration: <span style=\"color: #008080; text-decoration-color: #008080; font-weight: bold\">55</span>\n",
       "</pre>\n"
      ],
      "text/plain": [
       "Shortest file post filtration: \u001b[1;36m55\u001b[0m\n"
      ]
     },
     "metadata": {},
     "output_type": "display_data"
    }
   ],
   "source": [
    "#########################################################################################################\n",
    "# List the output files of an experiment\n",
    "#########################################################################################################\n",
    "TARGET_DIR = Path(\"log_results/oracle\")\n",
    "\n",
    "directories = list(TARGET_DIR.iterdir())\n",
    "active = []\n",
    "for file in tqdm(directories):\n",
    "    target = file / \"predictions.jsonl\"\n",
    "    if target.exists():\n",
    "        active.append(target)\n",
    "rich.print(\"Directories:\")\n",
    "rich.print(active)\n",
    "\n",
    "\n",
    "#########################################################################################################\n",
    "# Select the files that we will use for the analysis\n",
    "#########################################################################################################\n",
    "MIN_LENGTH = 20\n",
    "\n",
    "rich.print(\"Doing count line pre-filtration\")\n",
    "start = time.perf_counter()\n",
    "lengths_active = count_lines_list(active)\n",
    "rich.print(f\"Took {time.perf_counter() - start} seconds\")\n",
    "\n",
    "selected = [file for file, length in tqdm(lengths_active.items(), desc=\"filtering\") if length >= MIN_LENGTH]\n",
    "new_lengths = [lengths_active[file] for file in tqdm(selected, desc=\"count lines post-filtration\")]\n",
    "min_length = min(new_lengths)\n",
    "\n",
    "rich.print(\"Length counter pre-filtration\", collections.Counter(lengths_active))\n",
    "rich.print(\"Number of files post filtration:\", len(selected))\n",
    "rich.print(\"Length counter post filtration:\", collections.Counter(new_lengths))\n",
    "rich.print(\"Shortest file post filtration:\", min_length)"
   ]
  },
  {
   "cell_type": "code",
   "execution_count": 3,
   "metadata": {},
   "outputs": [
    {
     "name": "stdout",
     "output_type": "stream",
     "text": [
      "2778.983425117098\n"
     ]
    }
   ],
   "source": [
    "start = time.perf_counter()\n",
    "files_to_epochs = {}\n",
    "\n",
    "def fn(file: Path):\n",
    "    with jsonl.open(file) as reader:\n",
    "        output = []\n",
    "        for line in itertools.islice(reader, min_length):\n",
    "            output.append(line)\n",
    "    return file, output\n",
    "\n",
    "with multiprocessing.Pool(8) as pp:\n",
    "    for i, (file, output) in enumerate(pp.map(fn, selected)):\n",
    "        files_to_epochs[file] = output\n",
    "\n",
    "print(time.perf_counter() - start)"
   ]
  },
  {
   "cell_type": "code",
   "execution_count": 6,
   "metadata": {},
   "outputs": [
    {
     "name": "stderr",
     "output_type": "stream",
     "text": [
      "  0%|          | 0/17 [00:00<?, ?it/s]"
     ]
    },
    {
     "name": "stdout",
     "output_type": "stream",
     "text": [
      "file log_results/oracle/oracle_0/predictions.jsonl already seen epoch 19\n"
     ]
    },
    {
     "name": "stderr",
     "output_type": "stream",
     "text": [
      "100%|██████████| 55/55 [00:01<00:00, 37.48it/s]\n",
      "  6%|▌         | 1/17 [00:01<00:23,  1.47s/it]"
     ]
    },
    {
     "name": "stdout",
     "output_type": "stream",
     "text": [
      "file log_results/oracle/oracle_1/predictions.jsonl already seen epoch 19\n"
     ]
    },
    {
     "name": "stderr",
     "output_type": "stream",
     "text": [
      "100%|██████████| 55/55 [00:01<00:00, 39.02it/s]\n",
      "100%|██████████| 55/55 [00:01<00:00, 35.78it/s]\n",
      "100%|██████████| 55/55 [00:01<00:00, 42.37it/s]\n",
      "100%|██████████| 55/55 [00:01<00:00, 40.79it/s]\n",
      "100%|██████████| 55/55 [00:01<00:00, 37.00it/s]\n",
      "100%|██████████| 55/55 [00:01<00:00, 38.81it/s]\n",
      "100%|██████████| 55/55 [00:01<00:00, 40.51it/s]\n",
      "100%|██████████| 55/55 [00:01<00:00, 39.74it/s]\n",
      "100%|██████████| 55/55 [00:01<00:00, 38.32it/s]\n",
      "100%|██████████| 55/55 [00:01<00:00, 39.49it/s]\n",
      "100%|██████████| 55/55 [00:01<00:00, 40.40it/s]\n",
      "100%|██████████| 55/55 [00:01<00:00, 40.18it/s]\n",
      "100%|██████████| 55/55 [00:01<00:00, 37.34it/s]\n",
      "100%|██████████| 55/55 [00:01<00:00, 36.25it/s]\n",
      "100%|██████████| 55/55 [00:01<00:00, 36.73it/s]\n",
      " 94%|█████████▍| 16/17 [00:22<00:01,  1.46s/it]"
     ]
    },
    {
     "name": "stdout",
     "output_type": "stream",
     "text": [
      "file log_results/oracle/oracle_16/predictions.jsonl already seen epoch 8\n"
     ]
    },
    {
     "name": "stderr",
     "output_type": "stream",
     "text": [
      "100%|██████████| 55/55 [00:01<00:00, 36.32it/s]\n",
      "100%|██████████| 17/17 [00:24<00:00,  1.43s/it]"
     ]
    },
    {
     "name": "stdout",
     "output_type": "stream",
     "text": [
      "Looks all good.\n"
     ]
    },
    {
     "name": "stderr",
     "output_type": "stream",
     "text": [
      "\n"
     ]
    }
   ],
   "source": [
    "def assert_fn(condition, message):\n",
    "    assert condition, message\n",
    "\n",
    "\n",
    "# Check if lines repeat themselves \n",
    "def check_all_same_keys(path, obj, keys_seen: set[str]):\n",
    "    epochs_seen = set()\n",
    "\n",
    "    for i, epoch_content in enumerate(tqdm(obj)):\n",
    "\n",
    "        if i == 0:\n",
    "            continue \n",
    "\n",
    "        if epoch_content[\"epoch\"] in epochs_seen:\n",
    "            print(f\"file {path} already seen epoch {epoch_content['epoch']}\")\n",
    "        \n",
    "        epochs_seen.add(epoch_content[\"epoch\"])\n",
    "        \n",
    "        keys = epoch_content[\"results\"].keys()\n",
    "        \n",
    "        [assert_fn(isinstance(x, str), type(x)) for x in keys]\n",
    "        \n",
    "        if keys_seen:\n",
    "            for key in keys:\n",
    "                assert key.strip() in keys_seen, key\n",
    "        else:\n",
    "            keys_seen.update(key.strip() for key in keys)\n",
    "\n",
    "keys = set()\n",
    "for file, obj in tqdm(files_to_epochs.items()):\n",
    "    check_all_same_keys(file, obj, keys)\n",
    "    \n",
    "print(\"Looks all good.\")\n"
   ]
  },
  {
   "cell_type": "code",
   "execution_count": 7,
   "metadata": {},
   "outputs": [
    {
     "name": "stderr",
     "output_type": "stream",
     "text": [
      "  0%|          | 0/55 [00:00<?, ?it/s]/home/mila/g/gagnonju/.main/lib/python3.9/site-packages/numpy/core/fromnumeric.py:3474: RuntimeWarning: Mean of empty slice.\n",
      "  return _methods._mean(a, axis=axis, dtype=dtype,\n",
      "/home/mila/g/gagnonju/.main/lib/python3.9/site-packages/numpy/core/_methods.py:189: RuntimeWarning: invalid value encountered in double_scalars\n",
      "  ret = ret.dtype.type(ret / rcount)\n"
     ]
    },
    {
     "data": {
      "text/html": [
       "<pre style=\"white-space:pre;overflow-x:auto;line-height:normal;font-family:Menlo,'DejaVu Sans Mono',consolas,'Courier New',monospace\"><span style=\"font-weight: bold\">Epoch </span><span style=\"color: #008080; text-decoration-color: #008080; font-weight: bold\">0</span><span style=\"font-weight: bold\">:</span> nan%\n",
       "</pre>\n"
      ],
      "text/plain": [
       "\u001b[1mEpoch \u001b[0m\u001b[1;36m0\u001b[0m\u001b[1m:\u001b[0m nan%\n"
      ]
     },
     "metadata": {},
     "output_type": "display_data"
    },
    {
     "data": {
      "text/html": [
       "<pre style=\"white-space:pre;overflow-x:auto;line-height:normal;font-family:Menlo,'DejaVu Sans Mono',consolas,'Courier New',monospace\"><span style=\"font-weight: bold\">Epoch </span><span style=\"color: #008080; text-decoration-color: #008080; font-weight: bold\">1</span><span style=\"font-weight: bold\">:</span> <span style=\"color: #008080; text-decoration-color: #008080; font-weight: bold\">38.87</span>%\n",
       "</pre>\n"
      ],
      "text/plain": [
       "\u001b[1mEpoch \u001b[0m\u001b[1;36m1\u001b[0m\u001b[1m:\u001b[0m \u001b[1;36m38.87\u001b[0m%\n"
      ]
     },
     "metadata": {},
     "output_type": "display_data"
    },
    {
     "name": "stderr",
     "output_type": "stream",
     "text": [
      "  4%|▎         | 2/55 [00:22<10:02, 11.37s/it]"
     ]
    },
    {
     "data": {
      "text/html": [
       "<pre style=\"white-space:pre;overflow-x:auto;line-height:normal;font-family:Menlo,'DejaVu Sans Mono',consolas,'Courier New',monospace\"><span style=\"font-weight: bold\">Epoch </span><span style=\"color: #008080; text-decoration-color: #008080; font-weight: bold\">2</span><span style=\"font-weight: bold\">:</span> <span style=\"color: #008080; text-decoration-color: #008080; font-weight: bold\">55.27</span>%\n",
       "</pre>\n"
      ],
      "text/plain": [
       "\u001b[1mEpoch \u001b[0m\u001b[1;36m2\u001b[0m\u001b[1m:\u001b[0m \u001b[1;36m55.27\u001b[0m%\n"
      ]
     },
     "metadata": {},
     "output_type": "display_data"
    },
    {
     "name": "stderr",
     "output_type": "stream",
     "text": [
      "  5%|▌         | 3/55 [00:45<14:06, 16.27s/it]"
     ]
    }
   ],
   "source": [
    "#########################################################################################################\n",
    "# Check how well the models agree.\n",
    "#########################################################################################################\n",
    "\n",
    "file_iterator = {file: iter(epoch_list) for file, epoch_list in files_to_epochs.items()}\n",
    "\"\"\"\n",
    "epoch:\n",
    "- {results: {input_eqn_str: {is_freeform_bool: {'per_batch_mode': tensor_list}}}}\n",
    "- \n",
    "\"\"\"\n",
    "\n",
    "tokenizer = our_tokenizer.ArithmeticTokenizer()\n",
    "equal_idx = tokenizer.token_to_idx[\"=\"]\n",
    "\n",
    "def find_last_equal(line: list[int]):\n",
    "    for i in range(len(line) - 1, -1, -1):\n",
    "        if line[i] == equal_idx:\n",
    "            return i\n",
    "    return None\n",
    "\n",
    "per_epoch_agreement = {}\n",
    "for epoch_num in tqdm(range(min_length)):\n",
    "    eqs_to_values = collections.defaultdict(lambda: collections.defaultdict(list))\n",
    "    for file_idx, (path, per_file) in enumerate(file_iterator.items()):\n",
    "        per_file_per_epoch = next(per_file)\n",
    "        if epoch_num == 0:\n",
    "            continue\n",
    "\n",
    "        assert per_file_per_epoch[\"epoch\"] == epoch_num - 1, (\n",
    "            per_file_per_epoch[\"epoch\"], epoch_num - 1\n",
    "        )\n",
    "        \n",
    "        for key, value in per_file_per_epoch[\"results\"].items():\n",
    "            prediction = value[\"True\"][\"per_batch\"]\n",
    "            maybe_last_equal = find_last_equal(prediction)\n",
    "            if maybe_last_equal is not None:\n",
    "                numerical_prediction = prediction[maybe_last_equal + 1:]\n",
    "                numerical_prediction = tokenizer.decode(numerical_prediction, ignore_special_symbols=True)\n",
    "                numerical_prediction = numerical_prediction.replace(\" \", \"\")\n",
    "                numerical_prediction = numerical_prediction.replace(\")\", \"\")\n",
    "                eqs_to_values[key][path] = numerical_prediction.strip()\n",
    "            else:\n",
    "                eqs_to_values[key][path] = None                \n",
    "    \n",
    "    if epoch_num == 0:\n",
    "        continue\n",
    "\n",
    "    agreement = dict()\n",
    "\n",
    "    for k, v in eqs_to_values.items():\n",
    "        counter = collections.Counter(v.values())\n",
    "        if v:\n",
    "            agreement[k] = counter.most_common(1)[0][1] / len(v)\n",
    "\n",
    "    mean = np.mean(np.fromiter(agreement.values(), dtype=np.float64))\n",
    "    rich.print(f\"[bold]Epoch {epoch_num}:[/] {mean:0.2%}\")\n",
    "    per_epoch_agreement[epoch_num] = agreement\n",
    "    \n"
   ]
  },
  {
   "cell_type": "code",
   "execution_count": null,
   "metadata": {},
   "outputs": [
    {
     "name": "stdout",
     "output_type": "stream",
     "text": [
      "file 0 {1: 300, 2: 10000, 3: 10000, 4: 10000, 5: 10000, 6: 10000}\n",
      "file 1 {1: 300, 2: 10000, 3: 10000, 4: 10000, 5: 10000, 6: 10000}\n",
      "file 2 {1: 300, 2: 10000, 3: 10000, 4: 10000, 5: 10000, 6: 10000}\n",
      "file 3 {1: 300, 2: 10000, 3: 10000, 4: 10000, 5: 10000, 6: 10000}\n",
      "file 4 {1: 300, 2: 10000, 3: 10000, 4: 10000, 5: 10000, 6: 10000}\n",
      "file 5 {1: 300, 2: 10000, 3: 10000, 4: 10000, 5: 10000, 6: 10000}\n",
      "file 6 {1: 300, 2: 10000, 3: 10000, 4: 10000, 5: 10000, 6: 10000}\n",
      "file 7 {1: 300, 2: 10000, 3: 10000, 4: 10000, 5: 10000, 6: 10000}\n",
      "file 8 {1: 300, 2: 10000, 3: 10000, 4: 10000, 5: 10000, 6: 10000}\n",
      "file 9 {1: 300, 2: 10000, 3: 10000, 4: 10000, 5: 10000, 6: 10000}\n",
      "file 10 {1: 300, 2: 10000, 3: 10000, 4: 10000, 5: 10000, 6: 10000}\n",
      "file 11 {1: 300, 2: 10000, 3: 10000, 4: 10000, 5: 10000, 6: 10000}\n",
      "file 12 {1: 300, 2: 10000, 3: 10000, 4: 10000, 5: 10000, 6: 10000}\n",
      "file 13 {1: 300, 2: 10000, 3: 10000, 4: 10000, 5: 10000, 6: 10000}\n",
      "file 14 {1: 300, 2: 10000, 3: 10000, 4: 10000, 5: 10000, 6: 10000}\n",
      "file 15 {1: 300, 2: 10000, 3: 10000, 4: 10000, 5: 10000, 6: 10000}\n"
     ]
    }
   ],
   "source": [
    "# for k, v in counts.items():\n",
    "#     print(\"epoch\", k, collections.Counter(v.values()))\n",
    "\n",
    "for k, v in counts_levels.items():\n",
    "    print(\"file\", k, dict(sorted(v.items(), key=lambda x: x[0])))\n"
   ]
  },
  {
   "cell_type": "code",
   "execution_count": null,
   "metadata": {},
   "outputs": [],
   "source": []
  }
 ],
 "metadata": {
  "kernelspec": {
   "display_name": "Python 3.9.5 64-bit",
   "language": "python",
   "name": "python3"
  },
  "language_info": {
   "codemirror_mode": {
    "name": "ipython",
    "version": 3
   },
   "file_extension": ".py",
   "mimetype": "text/x-python",
   "name": "python",
   "nbconvert_exporter": "python",
   "pygments_lexer": "ipython3",
   "version": "3.9.5"
  },
  "orig_nbformat": 4,
  "vscode": {
   "interpreter": {
    "hash": "46daadc73974f0324ecc1592e5131128499dc93a3a1cbadf14a4773500af3ac4"
   }
  }
 },
 "nbformat": 4,
 "nbformat_minor": 2
}
