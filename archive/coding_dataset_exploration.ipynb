{
 "cells": [
  {
   "cell_type": "code",
   "execution_count": 14,
   "metadata": {},
   "outputs": [],
   "source": [
    "import ast\n",
    "\n",
    "import datasets\n",
    "import jsonlines as jsonl\n",
    "import numpy as np\n",
    "import rich\n",
    "import transformers\n",
    "import torch\n",
    "import wget\n"
   ]
  },
  {
   "cell_type": "code",
   "execution_count": 10,
   "metadata": {},
   "outputs": [],
   "source": [
    "# download dataset\n",
    "url = \"https://raw.githubusercontent.com/google-research/google-research/master/mbpp/mbpp.jsonl\"\n",
    "output_file = \"mbpp.jsonl\"\n",
    "wget.download(url, output_file)\n",
    "with open(output_file, \"r\") as f:\n",
    "    reader = jsonl.Reader(f)\n",
    "    data = list(reader)\n"
   ]
  },
  {
   "cell_type": "code",
   "execution_count": 79,
   "metadata": {},
   "outputs": [
    {
     "data": {
      "text/html": [
       "<pre style=\"white-space:pre;overflow-x:auto;line-height:normal;font-family:Menlo,'DejaVu Sans Mono',consolas,'Courier New',monospace\"><span style=\"color: #800000; text-decoration-color: #800000\">Skipping because there is setup code</span>\n",
       "</pre>\n"
      ],
      "text/plain": [
       "\u001b[31mSkipping because there is setup code\u001b[0m\n"
      ]
     },
     "metadata": {},
     "output_type": "display_data"
    },
    {
     "name": "stdout",
     "output_type": "stream",
     "text": [
      "assert remove_datatype((4, 5, 4, 7.7, 1.2), int) == [7.7, 1.2]\n"
     ]
    },
    {
     "data": {
      "text/html": [
       "<pre style=\"white-space:pre;overflow-x:auto;line-height:normal;font-family:Menlo,'DejaVu Sans Mono',consolas,'Courier New',monospace\"><span style=\"color: #800000; text-decoration-color: #800000\">Ignored because there was a name in the args of the fn</span>\n",
       "</pre>\n"
      ],
      "text/plain": [
       "\u001b[31mIgnored because there was a name in the args of the fn\u001b[0m\n"
      ]
     },
     "metadata": {},
     "output_type": "display_data"
    },
    {
     "name": "stdout",
     "output_type": "stream",
     "text": [
      "assert remove_datatype((7, 8, 9, \"SR\"), str) == [7, 8, 9]\n"
     ]
    },
    {
     "data": {
      "text/html": [
       "<pre style=\"white-space:pre;overflow-x:auto;line-height:normal;font-family:Menlo,'DejaVu Sans Mono',consolas,'Courier New',monospace\"><span style=\"color: #800000; text-decoration-color: #800000\">Ignored because there was a name in the args of the fn</span>\n",
       "</pre>\n"
      ],
      "text/plain": [
       "\u001b[31mIgnored because there was a name in the args of the fn\u001b[0m\n"
      ]
     },
     "metadata": {},
     "output_type": "display_data"
    },
    {
     "name": "stdout",
     "output_type": "stream",
     "text": [
      "assert remove_datatype((7, 1.1, 2, 2.2), float) == [7, 2]\n"
     ]
    },
    {
     "data": {
      "text/html": [
       "<pre style=\"white-space:pre;overflow-x:auto;line-height:normal;font-family:Menlo,'DejaVu Sans Mono',consolas,'Courier New',monospace\"><span style=\"color: #800000; text-decoration-color: #800000\">Ignored because there was a name in the args of the fn</span>\n",
       "</pre>\n"
      ],
      "text/plain": [
       "\u001b[31mIgnored because there was a name in the args of the fn\u001b[0m\n"
      ]
     },
     "metadata": {},
     "output_type": "display_data"
    },
    {
     "name": "stdout",
     "output_type": "stream",
     "text": [
      "assert tuple_size((\"A\", 1, \"B\", 2, \"C\", 3) ) == sys.getsizeof((\"A\", 1, \"B\", 2, \"C\", 3))\n"
     ]
    },
    {
     "data": {
      "text/html": [
       "<pre style=\"white-space:pre;overflow-x:auto;line-height:normal;font-family:Menlo,'DejaVu Sans Mono',consolas,'Courier New',monospace\"><span style=\"color: #800000; text-decoration-color: #800000\"> Skipping because Call in comparator</span>\n",
       "</pre>\n"
      ],
      "text/plain": [
       "\u001b[31m Skipping because Call in comparator\u001b[0m\n"
      ]
     },
     "metadata": {},
     "output_type": "display_data"
    },
    {
     "name": "stdout",
     "output_type": "stream",
     "text": [
      "assert tuple_size((1, \"Raju\", 2, \"Nikhil\", 3, \"Deepanshu\") ) == sys.getsizeof((1, \"Raju\", 2, \"Nikhil\", 3, \"Deepanshu\"))\n"
     ]
    },
    {
     "data": {
      "text/html": [
       "<pre style=\"white-space:pre;overflow-x:auto;line-height:normal;font-family:Menlo,'DejaVu Sans Mono',consolas,'Courier New',monospace\"><span style=\"color: #800000; text-decoration-color: #800000\"> Skipping because Call in comparator</span>\n",
       "</pre>\n"
      ],
      "text/plain": [
       "\u001b[31m Skipping because Call in comparator\u001b[0m\n"
      ]
     },
     "metadata": {},
     "output_type": "display_data"
    },
    {
     "name": "stdout",
     "output_type": "stream",
     "text": [
      "assert tuple_size(((1, \"Lion\"), ( 2, \"Tiger\"), (3, \"Fox\"), (4, \"Wolf\"))  ) == sys.getsizeof(((1, \"Lion\"), ( 2, \"Tiger\"), (3, \"Fox\"), (4, \"Wolf\")))\n"
     ]
    },
    {
     "data": {
      "text/html": [
       "<pre style=\"white-space:pre;overflow-x:auto;line-height:normal;font-family:Menlo,'DejaVu Sans Mono',consolas,'Courier New',monospace\"><span style=\"color: #800000; text-decoration-color: #800000\"> Skipping because Call in comparator</span>\n",
       "</pre>\n"
      ],
      "text/plain": [
       "\u001b[31m Skipping because Call in comparator\u001b[0m\n"
      ]
     },
     "metadata": {},
     "output_type": "display_data"
    },
    {
     "name": "stdout",
     "output_type": "stream",
     "text": [
      "assert max_chain_length([Pair(5, 24), Pair(15, 25),Pair(27, 40), Pair(50, 60)], 4) == 3\n"
     ]
    },
    {
     "data": {
      "text/html": [
       "<pre style=\"white-space:pre;overflow-x:auto;line-height:normal;font-family:Menlo,'DejaVu Sans Mono',consolas,'Courier New',monospace\"><span style=\"color: #800000; text-decoration-color: #800000\">Ignored because an arg wasn't a litteral</span>\n",
       "</pre>\n"
      ],
      "text/plain": [
       "\u001b[31mIgnored because an arg wasn't a litteral\u001b[0m\n"
      ]
     },
     "metadata": {},
     "output_type": "display_data"
    },
    {
     "name": "stdout",
     "output_type": "stream",
     "text": [
      "assert max_chain_length([Pair(1, 2), Pair(3, 4),Pair(5, 6), Pair(7, 8)], 4) == 4\n"
     ]
    },
    {
     "data": {
      "text/html": [
       "<pre style=\"white-space:pre;overflow-x:auto;line-height:normal;font-family:Menlo,'DejaVu Sans Mono',consolas,'Courier New',monospace\"><span style=\"color: #800000; text-decoration-color: #800000\">Ignored because an arg wasn't a litteral</span>\n",
       "</pre>\n"
      ],
      "text/plain": [
       "\u001b[31mIgnored because an arg wasn't a litteral\u001b[0m\n"
      ]
     },
     "metadata": {},
     "output_type": "display_data"
    },
    {
     "name": "stdout",
     "output_type": "stream",
     "text": [
      "assert max_chain_length([Pair(19, 10), Pair(11, 12),Pair(13, 14), Pair(15, 16), Pair(31, 54)], 5) == 5\n"
     ]
    },
    {
     "data": {
      "text/html": [
       "<pre style=\"white-space:pre;overflow-x:auto;line-height:normal;font-family:Menlo,'DejaVu Sans Mono',consolas,'Courier New',monospace\"><span style=\"color: #800000; text-decoration-color: #800000\">Ignored because an arg wasn't a litteral</span>\n",
       "</pre>\n"
      ],
      "text/plain": [
       "\u001b[31mIgnored because an arg wasn't a litteral\u001b[0m\n"
      ]
     },
     "metadata": {},
     "output_type": "display_data"
    },
    {
     "name": "stdout",
     "output_type": "stream",
     "text": [
      "assert int(lobb_num(5, 3)) == 35\n"
     ]
    },
    {
     "data": {
      "text/html": [
       "<pre style=\"white-space:pre;overflow-x:auto;line-height:normal;font-family:Menlo,'DejaVu Sans Mono',consolas,'Courier New',monospace\"><span style=\"color: #800000; text-decoration-color: #800000\">Ignored because there was a call in the args of the fn</span>\n",
       "</pre>\n"
      ],
      "text/plain": [
       "\u001b[31mIgnored because there was a call in the args of the fn\u001b[0m\n"
      ]
     },
     "metadata": {},
     "output_type": "display_data"
    },
    {
     "name": "stdout",
     "output_type": "stream",
     "text": [
      "assert int(lobb_num(3, 2)) == 5\n"
     ]
    },
    {
     "data": {
      "text/html": [
       "<pre style=\"white-space:pre;overflow-x:auto;line-height:normal;font-family:Menlo,'DejaVu Sans Mono',consolas,'Courier New',monospace\"><span style=\"color: #800000; text-decoration-color: #800000\">Ignored because there was a call in the args of the fn</span>\n",
       "</pre>\n"
      ],
      "text/plain": [
       "\u001b[31mIgnored because there was a call in the args of the fn\u001b[0m\n"
      ]
     },
     "metadata": {},
     "output_type": "display_data"
    },
    {
     "name": "stdout",
     "output_type": "stream",
     "text": [
      "assert int(lobb_num(4, 2)) == 20\n"
     ]
    },
    {
     "data": {
      "text/html": [
       "<pre style=\"white-space:pre;overflow-x:auto;line-height:normal;font-family:Menlo,'DejaVu Sans Mono',consolas,'Courier New',monospace\"><span style=\"color: #800000; text-decoration-color: #800000\">Ignored because there was a call in the args of the fn</span>\n",
       "</pre>\n"
      ],
      "text/plain": [
       "\u001b[31mIgnored because there was a call in the args of the fn\u001b[0m\n"
      ]
     },
     "metadata": {},
     "output_type": "display_data"
    },
    {
     "data": {
      "text/html": [
       "<pre style=\"white-space:pre;overflow-x:auto;line-height:normal;font-family:Menlo,'DejaVu Sans Mono',consolas,'Courier New',monospace\"><span style=\"color: #800000; text-decoration-color: #800000\">Skipping because there is setup code</span>\n",
       "</pre>\n"
      ],
      "text/plain": [
       "\u001b[31mSkipping because there is setup code\u001b[0m\n"
      ]
     },
     "metadata": {},
     "output_type": "display_data"
    },
    {
     "name": "stdout",
     "output_type": "stream",
     "text": [
      "2904\n",
      "2922\n"
     ]
    }
   ],
   "source": [
    "def prep():\n",
    "    samples = []\n",
    "    lengths = []\n",
    "    for entry in data:\n",
    "        if entry[\"test_setup_code\"]:\n",
    "            rich.print(\"[red]Skipping because there is setup code\")\n",
    "            continue\n",
    "\n",
    "        assert len(entry[\"test_list\"]) == 3, len(entry[\"test_list\"])\n",
    "        \n",
    "        for code in entry[\"test_list\"]:\n",
    "            parsed = ast.parse(code)\n",
    "            assert len(parsed.body) == 1, len(parsed.body)\n",
    "            assert_obj = parsed.body[0]\n",
    "            assert isinstance(assert_obj, ast.Assert), type(assert_obj)\n",
    "            assert isinstance(assert_obj.test.left, ast.Call), type(assert_obj.test.left)\n",
    "            call_obj = assert_obj.test.left\n",
    "            call_args = call_obj.args\n",
    "            output_constant_obj = assert_obj.test.comparators\n",
    "            assert len(output_constant_obj) == 1, len(output_constant_obj)\n",
    "            \n",
    "            node = output_constant_obj[0]\n",
    "            if isinstance(node, ast.Call):\n",
    "                print(code)\n",
    "                rich.print(\"[red] Skipping because Call in comparator\")\n",
    "                continue\n",
    "\n",
    "            if isinstance(node, ast.Name):\n",
    "                print(code)\n",
    "                rich.print(\"[red] Skipping because Name in comparator\")\n",
    "                continue\n",
    "\n",
    "            output_constant_val = ast.literal_eval(node)\n",
    "            args_vals = []\n",
    "            ignore_case = False\n",
    "            for arg in call_args:\n",
    "                result = None\n",
    "\n",
    "                if isinstance(arg, ast.Name):\n",
    "                    print(code)\n",
    "                    rich.print(\"[red]Ignored because there was a name in the args of the fn\")\n",
    "                    ignore_case = True \n",
    "                    break\n",
    "\n",
    "                if isinstance(arg, ast.Call):\n",
    "                    print(code)\n",
    "                    rich.print(\"[red]Ignored because there was a call in the args of the fn\")\n",
    "                    ignore_case = True \n",
    "                    break\n",
    "\n",
    "                if isinstance(arg, ast.BinOp):\n",
    "                    left = ast.literal_eval(arg.left)\n",
    "                    right = ast.literal_eval(arg.right)\n",
    "                    if isinstance(arg.op, ast.Add):\n",
    "                        result = left + right\n",
    "                    elif isinstance(arg.op, ast.Sub):\n",
    "                        result = left - right\n",
    "                    elif isinstance(arg.op, ast.Mult):\n",
    "                        result = left * right\n",
    "                    elif isinstance(arg.op, ast.Div):\n",
    "                        result = left / right\n",
    "                    else:\n",
    "                        raise NotImplementedError(type(arg.op))\n",
    "\n",
    "                if result is None:\n",
    "                    try:                    \n",
    "                        parsed_arg = ast.literal_eval(arg)\n",
    "                    except ValueError as err:\n",
    "                        print(code)\n",
    "                        rich.print(\"[red]Ignored because an arg wasn't a litteral\")\n",
    "                        ignore_case = True \n",
    "                        break\n",
    "                else:\n",
    "                    parsed_arg = result\n",
    "\n",
    "                args_vals.append(parsed_arg)\n",
    "\n",
    "            if not ignore_case:\n",
    "                lengths.append(len(entry[\"code\"].strip().split(\"\\n\")))\n",
    "                samples.append((args_vals, output_constant_val))\n",
    "\n",
    "    return samples, lengths\n",
    "\n",
    "samples, lengths = prep() \n",
    "print()\n",
    "print(len(samples))\n",
    "print(len(data) * 3)"
   ]
  },
  {
   "cell_type": "code",
   "execution_count": null,
   "metadata": {},
   "outputs": [],
   "source": []
  }
 ],
 "metadata": {
  "interpreter": {
   "hash": "46daadc73974f0324ecc1592e5131128499dc93a3a1cbadf14a4773500af3ac4"
  },
  "kernelspec": {
   "display_name": "Python 3.9.5 64-bit",
   "language": "python",
   "name": "python3"
  },
  "language_info": {
   "codemirror_mode": {
    "name": "ipython",
    "version": 3
   },
   "file_extension": ".py",
   "mimetype": "text/x-python",
   "name": "python",
   "nbconvert_exporter": "python",
   "pygments_lexer": "ipython3",
   "version": "3.9.5"
  },
  "orig_nbformat": 4
 },
 "nbformat": 4,
 "nbformat_minor": 2
}
