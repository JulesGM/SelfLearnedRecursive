{
 "cells": [
  {
   "cell_type": "code",
   "execution_count": 8,
   "metadata": {},
   "outputs": [],
   "source": [
    "import json\n",
    "import os\n",
    "from pathlib import Path\n",
    "import re\n",
    "import subprocess\n",
    "import time\n",
    "\n",
    "import jsonlines as jsonl\n",
    "import numpy as np\n",
    "import rich\n",
    "import h5py\n",
    "\n"
   ]
  },
  {
   "cell_type": "code",
   "execution_count": 19,
   "metadata": {},
   "outputs": [
    {
     "name": "stdout",
     "output_type": "stream",
     "text": [
      "[]\n"
     ]
    }
   ],
   "source": [
    "\"\"\"\n",
    "Resume the training for all jobs under a certain number of epochs\n",
    "\"\"\"\n",
    "assert False\n",
    "\n",
    "DATA_DIR = Path(\"./log_results/\")\n",
    "ORACLE = DATA_DIR / \"oracle\"\n",
    "BASIC = DATA_DIR / \"basic\"\n",
    "\n",
    "LIMIT = 60\n",
    "checkpoints = list(ORACLE.glob(\"**/*.ckpt\")) + list(BASIC.glob(\"**/*.ckpt\"))\n",
    "\n",
    "def epoch_no_from_ckpt_path(path):\n",
    "    return int(re.search(\"epoch=(\\w+)\", path.name).group(1))\n",
    "\n",
    "incomplete = [x for x in checkpoints if epoch_no_from_ckpt_path(x) < LIMIT]\n",
    "incomplete_specific_info = [\n",
    "    next(iter(x.parent.parent.parent.parent.parent.glob(\"**/specific_config.json\"))) \n",
    "    for x in incomplete if \"archive\" not in str(x.parent.parent.parent.parent.parent)]\n",
    "print(incomplete_specific_info)\n",
    "if not incomplete_specific_info:\n",
    "    print(\"No incomplete checkpoints found, nothing to resume.\")\n",
    "\n",
    "processes = []\n",
    "for path in incomplete_specific_info:\n",
    "    command = [\n",
    "        \"python\", \"./bin_main_launcher.py\", \"resume\", str(Path.cwd() / path), \"--gpu=a100\", \"--max_epochs=60\"\n",
    "    ]\n",
    "    rich.print(command)\n",
    "    processes.append(subprocess.Popen(command))\n",
    "    \n",
    "[p.wait() for p in processes]"
   ]
  },
  {
   "cell_type": "code",
   "execution_count": null,
   "metadata": {},
   "outputs": [],
   "source": []
  }
 ],
 "metadata": {
  "kernelspec": {
   "display_name": "Python 3.9.5 64-bit",
   "language": "python",
   "name": "python3"
  },
  "language_info": {
   "codemirror_mode": {
    "name": "ipython",
    "version": 3
   },
   "file_extension": ".py",
   "mimetype": "text/x-python",
   "name": "python",
   "nbconvert_exporter": "python",
   "pygments_lexer": "ipython3",
   "version": "3.9.5"
  },
  "orig_nbformat": 4,
  "vscode": {
   "interpreter": {
    "hash": "46daadc73974f0324ecc1592e5131128499dc93a3a1cbadf14a4773500af3ac4"
   }
  }
 },
 "nbformat": 4,
 "nbformat_minor": 2
}
