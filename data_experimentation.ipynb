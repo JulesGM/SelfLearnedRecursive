{
 "cells": [
  {
   "cell_type": "code",
   "execution_count": 1,
   "metadata": {},
   "outputs": [
    {
     "name": "stderr",
     "output_type": "stream",
     "text": [
      "/home/mila/g/gagnonju/.main/lib/python3.9/site-packages/beartype/_util/hint/pep/utilpeptest.py:317: BeartypeDecorHintPep585DeprecationWarning: PEP 484 type hint typing.Tuple[numpy.ndarray, numpy.ndarray] deprecated by PEP 585 scheduled for removal in the first Python version released after October 5th, 2025. To resolve this, import this hint from \"beartype.typing\" rather than \"typing\". See this discussion for further details and alternatives:\n",
      "    https://github.com/beartype/beartype#pep-585-deprecations\n",
      "  warn(\n"
     ]
    }
   ],
   "source": [
    "import collections\n",
    "import graphlib\n",
    "from pathlib import Path\n",
    "\n",
    "import matplotlib.pyplot as plt\n",
    "import numpy as np\n",
    "import rich\n",
    "from tqdm import tqdm\n",
    "\n",
    "import datagen\n",
    "import our_tokenizer\n",
    "\n"
   ]
  },
  {
   "cell_type": "code",
   "execution_count": 2,
   "metadata": {},
   "outputs": [
    {
     "name": "stderr",
     "output_type": "stream",
     "text": [
      "first: 100%|██████████| 300/300 [00:00<00:00, 218833.25it/s]\n",
      "second: 100%|██████████| 200000/200000 [00:07<00:00, 26269.20it/s]\n",
      "third: 100%|██████████| 200000/200000 [00:12<00:00, 16608.77it/s]\n",
      "Parsing third: 100%|██████████| 3/3 [00:19<00:00,  6.56s/it]\n"
     ]
    }
   ],
   "source": [
    "data = datagen.load_dataset(None, Path.cwd() / \"data\" / \"dicts.pkl\")\n"
   ]
  },
  {
   "cell_type": "code",
   "execution_count": 8,
   "metadata": {},
   "outputs": [
    {
     "name": "stdout",
     "output_type": "stream",
     "text": [
      "['(1 * 6)', '(2 - 6)', '(6 * 6)', '(1 - 3)']\n",
      "['((1 * 6) + (2 - 6))', '((6 * 6) * (1 - 3))']\n",
      "['(((1 * 6) + (2 - 6)) - ((6 * 6) * (1 - 3)))']\n"
     ]
    },
    {
     "data": {
      "text/html": [
       "<pre style=\"white-space:pre;overflow-x:auto;line-height:normal;font-family:Menlo,'DejaVu Sans Mono',consolas,'Courier New',monospace\"><span style=\"color: #000080; text-decoration-color: #000080\">batch: </span><span style=\"color: #000080; text-decoration-color: #000080; font-weight: bold\">[</span><span style=\"color: #000080; text-decoration-color: #000080\">'(1 * 6)'</span><span style=\"color: #000080; text-decoration-color: #000080\">, </span><span style=\"color: #000080; text-decoration-color: #000080\">'(2 - 6)'</span><span style=\"color: #000080; text-decoration-color: #000080\">, </span><span style=\"color: #000080; text-decoration-color: #000080\">'(6 * 6)'</span><span style=\"color: #000080; text-decoration-color: #000080\">, </span><span style=\"color: #000080; text-decoration-color: #000080\">'(1 - 3)'</span><span style=\"color: #000080; text-decoration-color: #000080; font-weight: bold\">]</span>\n",
       "</pre>\n"
      ],
      "text/plain": [
       "\u001b[34mbatch: \u001b[0m\u001b[1;34m[\u001b[0m\u001b[34m'\u001b[0m\u001b[34m(\u001b[0m\u001b[34m1 * 6\u001b[0m\u001b[34m)\u001b[0m\u001b[34m'\u001b[0m\u001b[34m, \u001b[0m\u001b[34m'\u001b[0m\u001b[34m(\u001b[0m\u001b[34m2 - 6\u001b[0m\u001b[34m)\u001b[0m\u001b[34m'\u001b[0m\u001b[34m, \u001b[0m\u001b[34m'\u001b[0m\u001b[34m(\u001b[0m\u001b[34m6 * 6\u001b[0m\u001b[34m)\u001b[0m\u001b[34m'\u001b[0m\u001b[34m, \u001b[0m\u001b[34m'\u001b[0m\u001b[34m(\u001b[0m\u001b[34m1 - 3\u001b[0m\u001b[34m)\u001b[0m\u001b[34m'\u001b[0m\u001b[1;34m]\u001b[0m\n"
      ]
     },
     "metadata": {},
     "output_type": "display_data"
    },
    {
     "name": "stdout",
     "output_type": "stream",
     "text": [
      "( 1 * 6 = 3 )\n",
      "( 2 - 6 = 3 )\n",
      "( 6 * 6 = 3 )\n",
      "( 1 - 3 = 3 )\n"
     ]
    },
    {
     "data": {
      "text/html": [
       "<pre style=\"white-space:pre;overflow-x:auto;line-height:normal;font-family:Menlo,'DejaVu Sans Mono',consolas,'Courier New',monospace\"><span style=\"color: #000080; text-decoration-color: #000080\">batch: </span><span style=\"color: #000080; text-decoration-color: #000080; font-weight: bold\">[</span><span style=\"color: #000080; text-decoration-color: #000080\">'((1 * 6) + (2 - 6))'</span><span style=\"color: #000080; text-decoration-color: #000080\">, </span><span style=\"color: #000080; text-decoration-color: #000080\">'((6 * 6) * (1 - 3))'</span><span style=\"color: #000080; text-decoration-color: #000080; font-weight: bold\">]</span>\n",
       "</pre>\n"
      ],
      "text/plain": [
       "\u001b[34mbatch: \u001b[0m\u001b[1;34m[\u001b[0m\u001b[34m'\u001b[0m\u001b[34m(\u001b[0m\u001b[34m(\u001b[0m\u001b[34m1 * 6\u001b[0m\u001b[34m)\u001b[0m\u001b[34m + \u001b[0m\u001b[34m(\u001b[0m\u001b[34m2 - 6\u001b[0m\u001b[34m)\u001b[0m\u001b[34m)\u001b[0m\u001b[34m'\u001b[0m\u001b[34m, \u001b[0m\u001b[34m'\u001b[0m\u001b[34m(\u001b[0m\u001b[34m(\u001b[0m\u001b[34m6 * 6\u001b[0m\u001b[34m)\u001b[0m\u001b[34m * \u001b[0m\u001b[34m(\u001b[0m\u001b[34m1 - 3\u001b[0m\u001b[34m)\u001b[0m\u001b[34m)\u001b[0m\u001b[34m'\u001b[0m\u001b[1;34m]\u001b[0m\n"
      ]
     },
     "metadata": {},
     "output_type": "display_data"
    },
    {
     "name": "stdout",
     "output_type": "stream",
     "text": [
      "( ( 1 * 6 = 3 ) + ( 2 - 6 = 3 ) = 3 )\n",
      "( ( 6 * 6 = 3 ) * ( 1 - 3 = 3 ) = 3 )\n"
     ]
    },
    {
     "data": {
      "text/html": [
       "<pre style=\"white-space:pre;overflow-x:auto;line-height:normal;font-family:Menlo,'DejaVu Sans Mono',consolas,'Courier New',monospace\"><span style=\"color: #000080; text-decoration-color: #000080\">batch: </span><span style=\"color: #000080; text-decoration-color: #000080; font-weight: bold\">[</span><span style=\"color: #000080; text-decoration-color: #000080\">'(((1 * 6) + (2 - 6)) - ((6 * 6) * (1 - 3)))'</span><span style=\"color: #000080; text-decoration-color: #000080; font-weight: bold\">]</span>\n",
       "</pre>\n"
      ],
      "text/plain": [
       "\u001b[34mbatch: \u001b[0m\u001b[1;34m[\u001b[0m\u001b[34m'\u001b[0m\u001b[34m(\u001b[0m\u001b[34m(\u001b[0m\u001b[34m(\u001b[0m\u001b[34m1 * 6\u001b[0m\u001b[34m)\u001b[0m\u001b[34m + \u001b[0m\u001b[34m(\u001b[0m\u001b[34m2 - 6\u001b[0m\u001b[34m)\u001b[0m\u001b[34m)\u001b[0m\u001b[34m - \u001b[0m\u001b[34m(\u001b[0m\u001b[34m(\u001b[0m\u001b[34m6 * 6\u001b[0m\u001b[34m)\u001b[0m\u001b[34m * \u001b[0m\u001b[34m(\u001b[0m\u001b[34m1 - 3\u001b[0m\u001b[34m)\u001b[0m\u001b[34m)\u001b[0m\u001b[34m)\u001b[0m\u001b[34m'\u001b[0m\u001b[1;34m]\u001b[0m\n"
      ]
     },
     "metadata": {},
     "output_type": "display_data"
    },
    {
     "name": "stdout",
     "output_type": "stream",
     "text": [
      "( ( ( 1 * 6 = 3 ) + ( 2 - 6 = 3 ) = 3 ) - ( ( 6 * 6 = 3 ) * ( 1 - 3 = 3 ) = 3 ) = 3 )\n"
     ]
    }
   ],
   "source": [
    "root = data[\"third\"][3]\n",
    "root.reset_pseudo_values()\n",
    "def build_tree(dep_dict: dict, visited_datagen: datagen.Node):\n",
    "    if visited_datagen.get_children():\n",
    "        dep_dict[visited_datagen] = []\n",
    "        for child in visited_datagen.get_children():\n",
    "            if child.get_children():\n",
    "                dep_dict[visited_datagen].append(child)\n",
    "                build_tree(dep_dict, child)\n",
    "\n",
    "tree = {}\n",
    "build_tree(tree, root)\n",
    "def print_batches(tree):\n",
    "    sorter = graphlib.TopologicalSorter(tree)\n",
    "    sorter.prepare()\n",
    "    while sorter.is_active():\n",
    "        batch = sorter.get_ready()\n",
    "        print([x.get_input_str() for x in batch])\n",
    "        for x in batch:\n",
    "            sorter.done(x)\n",
    "\n",
    "print_batches(tree)\n",
    "tokenizer = our_tokenizer.Tokenizer(512, True)\n",
    "sorter = graphlib.TopologicalSorter(tree)\n",
    "sorter.prepare()\n",
    "while sorter.is_active():\n",
    "    batch = sorter.get_ready()\n",
    "    rich.print(f\"[blue]batch: {[x.get_input_str() for x in batch]}\")\n",
    "    for x in batch:\n",
    "        query = x.get_pseudo_topsort_query()\n",
    "        answer = 3\n",
    "        x.set_pseudo_value(3)\n",
    "        print(x.get_pseudo_topsort())\n",
    "        \n",
    "    for x in batch:\n",
    "        sorter.done(x)\n"
   ]
  },
  {
   "cell_type": "markdown",
   "metadata": {},
   "source": [
    "all_data = sum(data.values(), [])"
   ]
  },
  {
   "cell_type": "markdown",
   "metadata": {},
   "source": [
    "def get_all_nodes(root: datagen.Node):\n",
    "    node_list = [root]\n",
    "    children_nodes = root.get_children()\n",
    "    if children_nodes:\n",
    "        child_nodes_lists = [get_all_nodes(x) for x in children_nodes]\n",
    "        for child_nodes_list in child_nodes_lists:\n",
    "            node_list.extend(child_nodes_list)\n",
    "    return node_list\n",
    "    \n",
    "\n",
    "all_nodes = []\n",
    "for node in all_data:\n",
    "    all_nodes += get_all_nodes(node)"
   ]
  },
  {
   "cell_type": "markdown",
   "metadata": {},
   "source": [
    "top = max(tqdm(all_nodes), key=lambda x: len(str(x.get_value())))"
   ]
  },
  {
   "cell_type": "code",
   "execution_count": 4,
   "metadata": {},
   "outputs": [
    {
     "ename": "NameError",
     "evalue": "name 'all_nodes' is not defined",
     "output_type": "error",
     "traceback": [
      "\u001b[0;31m---------------------------------------------------------------------------\u001b[0m",
      "\u001b[0;31mNameError\u001b[0m                                 Traceback (most recent call last)",
      "\u001b[0;32m/tmp/ipykernel_3280140/2777895471.py\u001b[0m in \u001b[0;36m<module>\u001b[0;34m\u001b[0m\n\u001b[0;32m----> 1\u001b[0;31m \u001b[0mlengths\u001b[0m \u001b[0;34m=\u001b[0m \u001b[0;34m[\u001b[0m\u001b[0mlen\u001b[0m\u001b[0;34m(\u001b[0m\u001b[0mstr\u001b[0m\u001b[0;34m(\u001b[0m\u001b[0mx\u001b[0m\u001b[0;34m.\u001b[0m\u001b[0mget_value\u001b[0m\u001b[0;34m(\u001b[0m\u001b[0;34m)\u001b[0m\u001b[0;34m)\u001b[0m\u001b[0;34m)\u001b[0m \u001b[0;32mfor\u001b[0m \u001b[0mx\u001b[0m \u001b[0;32min\u001b[0m \u001b[0mall_nodes\u001b[0m\u001b[0;34m]\u001b[0m\u001b[0;34m\u001b[0m\u001b[0;34m\u001b[0m\u001b[0m\n\u001b[0m\u001b[1;32m      2\u001b[0m \u001b[0mlengths\u001b[0m\u001b[0;34m.\u001b[0m\u001b[0msort\u001b[0m\u001b[0;34m(\u001b[0m\u001b[0;34m)\u001b[0m\u001b[0;34m\u001b[0m\u001b[0;34m\u001b[0m\u001b[0m\n\u001b[1;32m      3\u001b[0m \u001b[0ml\u001b[0m \u001b[0;34m=\u001b[0m \u001b[0mnp\u001b[0m\u001b[0;34m.\u001b[0m\u001b[0marray\u001b[0m\u001b[0;34m(\u001b[0m\u001b[0mlengths\u001b[0m\u001b[0;34m)\u001b[0m\u001b[0;34m\u001b[0m\u001b[0;34m\u001b[0m\u001b[0m\n",
      "\u001b[0;31mNameError\u001b[0m: name 'all_nodes' is not defined"
     ]
    }
   ],
   "source": [
    "lengths = [len(str(x.get_value())) for x in all_nodes]\n",
    "lengths.sort()\n",
    "l = np.array(lengths)"
   ]
  },
  {
   "cell_type": "code",
   "execution_count": null,
   "metadata": {},
   "outputs": [
    {
     "data": {
      "text/plain": [
       "[<matplotlib.lines.Line2D at 0x7f58564b29a0>]"
      ]
     },
     "execution_count": 7,
     "metadata": {},
     "output_type": "execute_result"
    },
    {
     "data": {
      "image/png": "[encoded data removed]",
      "text/plain": [
       "<Figure size 432x288 with 1 Axes>"
      ]
     },
     "metadata": {
      "needs_background": "light"
     },
     "output_type": "display_data"
    }
   ],
   "source": [
    "plt.plot(np.linspace(0, 1, len(l)), l)"
   ]
  },
  {
   "cell_type": "markdown",
   "metadata": {},
   "source": [
    "[(i, f\"{np.mean(l <= i):0.3%}\") for i in range(9)]"
   ]
  },
  {
   "cell_type": "markdown",
   "metadata": {},
   "source": [
    "def get_max_equals(root: datagen.Node):\n",
    "    \"\"\"\n",
    "    If a node has children then it has an equal sign\n",
    "    \"\"\"\n",
    "    qty = 0\n",
    "    children_nodes = root.get_children()\n",
    "    if children_nodes:\n",
    "        qty += 1\n",
    "        qty += sum([get_max_equals(x) for x in children_nodes])\n",
    "    return qty\n",
    "\n",
    "print(sorted(collections.Counter(get_max_equals(x) for x in all_data).items(), key=lambda x: x[1], reverse=True))\n",
    "    "
   ]
  },
  {
   "cell_type": "markdown",
   "metadata": {},
   "source": [
    "longuest_generation = max(all_data, key=lambda x: len(str(x.get_oracle_str()[0])))"
   ]
  },
  {
   "cell_type": "markdown",
   "metadata": {},
   "source": [
    "lengths = [len(x.get_oracle_str()[0]) for x in tqdm(all_data)]\n",
    "oracle_str_lengths = np.array(lengths)\n",
    "print(\"sorting\")\n",
    "oracle_str_lengths.sort()\n"
   ]
  },
  {
   "cell_type": "markdown",
   "metadata": {},
   "source": [
    "[(i, f\"{np.mean(oracle_str_lengths <= x):0.3%}\") for i, x in enumerate(tqdm(range(88)))]"
   ]
  }
 ],
 "metadata": {
  "interpreter": {
   "hash": "46daadc73974f0324ecc1592e5131128499dc93a3a1cbadf14a4773500af3ac4"
  },
  "kernelspec": {
   "display_name": "Python 3.9.5 64-bit",
   "language": "python",
   "name": "python3"
  },
  "language_info": {
   "codemirror_mode": {
    "name": "ipython",
    "version": 3
   },
   "file_extension": ".py",
   "mimetype": "text/x-python",
   "name": "python",
   "nbconvert_exporter": "python",
   "pygments_lexer": "ipython3",
   "version": "3.9.5"
  },
  "orig_nbformat": 4
 },
 "nbformat": 4,
 "nbformat_minor": 2
}
