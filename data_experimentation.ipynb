{
 "cells": [
  {
   "cell_type": "code",
   "execution_count": 42,
   "metadata": {},
   "outputs": [],
   "source": [
    "import collections\n",
    "from pathlib import Path\n",
    "\n",
    "import matplotlib.pyplot as plt\n",
    "import numpy as np\n",
    "from tqdm import tqdm\n",
    "\n",
    "import datagen"
   ]
  },
  {
   "cell_type": "code",
   "execution_count": 2,
   "metadata": {},
   "outputs": [
    {
     "data": {
      "text/plain": [
       "3"
      ]
     },
     "execution_count": 2,
     "metadata": {},
     "output_type": "execute_result"
    }
   ],
   "source": [
    "data = datagen.load_dataset(None, Path.cwd() / \"data\" / \"dicts.pkl\")\n"
   ]
  },
  {
   "cell_type": "code",
   "execution_count": 10,
   "metadata": {},
   "outputs": [],
   "source": [
    "all_data = sum(data.values(), [])"
   ]
  },
  {
   "cell_type": "code",
   "execution_count": 28,
   "metadata": {},
   "outputs": [],
   "source": [
    "def get_all_nodes(root: datagen.Node):\n",
    "    node_list = [root]\n",
    "    children_nodes = root.get_children()\n",
    "    if children_nodes:\n",
    "        child_nodes_lists = [get_all_nodes(x) for x in children_nodes]\n",
    "        for child_nodes_list in child_nodes_lists:\n",
    "            node_list.extend(child_nodes_list)\n",
    "    return node_list\n",
    "    \n",
    "\n",
    "all_nodes = []\n",
    "for node in all_data:\n",
    "    all_nodes += get_all_nodes(node)"
   ]
  },
  {
   "cell_type": "code",
   "execution_count": 29,
   "metadata": {},
   "outputs": [
    {
     "name": "stderr",
     "output_type": "stream",
     "text": [
      "100%|██████████| 4325278/4325278 [00:03<00:00, 1390471.75it/s]\n"
     ]
    }
   ],
   "source": [
    "top = max(tqdm(all_nodes), key=lambda x: len(str(x.get_value())))"
   ]
  },
  {
   "cell_type": "code",
   "execution_count": 48,
   "metadata": {},
   "outputs": [],
   "source": [
    "lengths = [len(str(x.get_value())) for x in all_nodes]\n",
    "lengths.sort()\n",
    "l = np.array(lengths)"
   ]
  },
  {
   "cell_type": "code",
   "execution_count": 47,
   "metadata": {},
   "outputs": [
    {
     "data": {
      "text/plain": [
       "[<matplotlib.lines.Line2D at 0x7f1b4d194790>]"
      ]
     },
     "execution_count": 47,
     "metadata": {},
     "output_type": "execute_result"
    },
    {
     "data": {
      "image/png": "[encoded data removed]",
      "text/plain": [
       "<Figure size 432x288 with 1 Axes>"
      ]
     },
     "metadata": {
      "needs_background": "light"
     },
     "output_type": "display_data"
    }
   ],
   "source": [
    "plt.plot(np.linspace(0, 1, len(l)), l)"
   ]
  },
  {
   "cell_type": "code",
   "execution_count": 58,
   "metadata": {},
   "outputs": [
    {
     "data": {
      "text/plain": [
       "[(0, '0.000%'),\n",
       " (1, '72.727%'),\n",
       " (2, '94.821%'),\n",
       " (3, '99.082%'),\n",
       " (4, '99.849%'),\n",
       " (5, '99.982%'),\n",
       " (6, '99.999%'),\n",
       " (7, '100.000%'),\n",
       " (8, '100.000%')]"
      ]
     },
     "execution_count": 58,
     "metadata": {},
     "output_type": "execute_result"
    }
   ],
   "source": [
    "[(i, f\"{np.mean(l <= i):0.3%}\") for i in range(9)]"
   ]
  },
  {
   "cell_type": "code",
   "execution_count": 57,
   "metadata": {},
   "outputs": [
    {
     "name": "stdout",
     "output_type": "stream",
     "text": [
      "[(3, 187497), (7, 175731), (6, 23252), (2, 12504), (5, 997), (1, 300), (4, 19)]\n"
     ]
    }
   ],
   "source": [
    "def get_max_equals(root: datagen.Node):\n",
    "    \"\"\"\n",
    "    If a node has children then it has an equal sign\n",
    "    \"\"\"\n",
    "    qty = 0\n",
    "    children_nodes = root.get_children()\n",
    "    if children_nodes:\n",
    "        qty += 1\n",
    "        qty += sum([get_max_equals(x) for x in children_nodes])\n",
    "    return qty\n",
    "\n",
    "print(sorted(collections.Counter(get_max_equals(x) for x in all_data).items(), key=lambda x: x[1], reverse=True))\n",
    "    "
   ]
  },
  {
   "cell_type": "code",
   "execution_count": 65,
   "metadata": {},
   "outputs": [],
   "source": [
    "longuest_generation = max(all_data, key=lambda x: len(str(x.get_oracle_str()[0])))"
   ]
  },
  {
   "cell_type": "code",
   "execution_count": 73,
   "metadata": {},
   "outputs": [
    {
     "name": "stderr",
     "output_type": "stream",
     "text": [
      "100%|██████████| 400300/400300 [00:00<00:00, 1279441.13it/s]"
     ]
    },
    {
     "name": "stdout",
     "output_type": "stream",
     "text": [
      "sorting\n"
     ]
    },
    {
     "name": "stderr",
     "output_type": "stream",
     "text": [
      "\n"
     ]
    }
   ],
   "source": [
    "lengths = [len(x.get_oracle_str()[0]) for x in tqdm(all_data)]\n",
    "oracle_str_lengths = np.array(lengths)\n",
    "print(\"sorting\")\n",
    "oracle_str_lengths.sort()\n"
   ]
  },
  {
   "cell_type": "code",
   "execution_count": 72,
   "metadata": {},
   "outputs": [
    {
     "data": {
      "text/plain": [
       "88"
      ]
     },
     "execution_count": 72,
     "metadata": {},
     "output_type": "execute_result"
    }
   ],
   "source": []
  },
  {
   "cell_type": "code",
   "execution_count": 77,
   "metadata": {},
   "outputs": [
    {
     "name": "stderr",
     "output_type": "stream",
     "text": [
      "100%|██████████| 88/88 [00:00<00:00, 3002.58it/s]\n"
     ]
    },
    {
     "data": {
      "text/plain": [
       "[(0, '0.000%'),\n",
       " (1, '0.000%'),\n",
       " (2, '0.000%'),\n",
       " (3, '0.000%'),\n",
       " (4, '0.000%'),\n",
       " (5, '0.000%'),\n",
       " (6, '0.000%'),\n",
       " (7, '0.000%'),\n",
       " (8, '0.000%'),\n",
       " (9, '0.000%'),\n",
       " (10, '0.000%'),\n",
       " (11, '0.038%'),\n",
       " (12, '0.075%'),\n",
       " (13, '0.075%'),\n",
       " (14, '0.075%'),\n",
       " (15, '0.075%'),\n",
       " (16, '0.075%'),\n",
       " (17, '0.075%'),\n",
       " (18, '0.075%'),\n",
       " (19, '0.075%'),\n",
       " (20, '0.075%'),\n",
       " (21, '0.933%'),\n",
       " (22, '1.924%'),\n",
       " (23, '2.841%'),\n",
       " (24, '3.199%'),\n",
       " (25, '3.199%'),\n",
       " (26, '3.199%'),\n",
       " (27, '3.199%'),\n",
       " (28, '3.199%'),\n",
       " (29, '3.199%'),\n",
       " (30, '3.199%'),\n",
       " (31, '10.017%'),\n",
       " (32, '19.754%'),\n",
       " (33, '34.756%'),\n",
       " (34, '45.152%'),\n",
       " (35, '49.345%'),\n",
       " (36, '50.038%'),\n",
       " (37, '50.038%'),\n",
       " (38, '50.038%'),\n",
       " (39, '50.038%'),\n",
       " (40, '50.038%'),\n",
       " (41, '50.038%'),\n",
       " (42, '50.038%'),\n",
       " (43, '50.039%'),\n",
       " (44, '50.041%'),\n",
       " (45, '50.042%'),\n",
       " (46, '50.042%'),\n",
       " (47, '50.042%'),\n",
       " (48, '50.042%'),\n",
       " (49, '50.042%'),\n",
       " (50, '50.042%'),\n",
       " (51, '50.054%'),\n",
       " (52, '50.075%'),\n",
       " (53, '50.102%'),\n",
       " (54, '50.153%'),\n",
       " (55, '50.204%'),\n",
       " (56, '50.243%'),\n",
       " (57, '50.268%'),\n",
       " (58, '50.285%'),\n",
       " (59, '50.289%'),\n",
       " (60, '50.291%'),\n",
       " (61, '50.438%'),\n",
       " (62, '50.750%'),\n",
       " (63, '51.250%'),\n",
       " (64, '52.093%'),\n",
       " (65, '53.096%'),\n",
       " (66, '54.093%'),\n",
       " (67, '54.937%'),\n",
       " (68, '55.504%'),\n",
       " (69, '55.851%'),\n",
       " (70, '56.002%'),\n",
       " (71, '56.661%'),\n",
       " (72, '58.150%'),\n",
       " (73, '60.807%'),\n",
       " (74, '65.546%'),\n",
       " (75, '71.803%'),\n",
       " (76, '78.882%'),\n",
       " (77, '85.763%'),\n",
       " (78, '91.329%'),\n",
       " (79, '95.367%'),\n",
       " (80, '97.782%'),\n",
       " (81, '99.062%'),\n",
       " (82, '99.662%'),\n",
       " (83, '99.887%'),\n",
       " (84, '99.966%'),\n",
       " (85, '99.988%'),\n",
       " (86, '99.994%'),\n",
       " (87, '100.000%')]"
      ]
     },
     "execution_count": 77,
     "metadata": {},
     "output_type": "execute_result"
    }
   ],
   "source": [
    "[(i, f\"{np.mean(oracle_str_lengths <= x):0.3%}\") for i, x in enumerate(tqdm(range(88)))]"
   ]
  },
  {
   "cell_type": "code",
   "execution_count": null,
   "metadata": {},
   "outputs": [],
   "source": []
  }
 ],
 "metadata": {
  "interpreter": {
   "hash": "46daadc73974f0324ecc1592e5131128499dc93a3a1cbadf14a4773500af3ac4"
  },
  "kernelspec": {
   "display_name": "Python 3.9.5 64-bit",
   "language": "python",
   "name": "python3"
  },
  "language_info": {
   "codemirror_mode": {
    "name": "ipython",
    "version": 3
   },
   "file_extension": ".py",
   "mimetype": "text/x-python",
   "name": "python",
   "nbconvert_exporter": "python",
   "pygments_lexer": "ipython3",
   "version": "3.9.5"
  },
  "orig_nbformat": 4
 },
 "nbformat": 4,
 "nbformat_minor": 2
}
